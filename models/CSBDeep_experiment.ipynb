{
  "cells": [
    {
      "cell_type": "code",
      "source": [
        "# Testing CARE implementation from CSBDeep library"
      ],
      "metadata": {
        "id": "3aCR3XwOP4VI"
      },
      "execution_count": null,
      "outputs": []
    },
    {
      "cell_type": "code",
      "execution_count": null,
      "metadata": {
        "colab": {
          "base_uri": "https://localhost:8080/"
        },
        "id": "vPBAVlm6kGrZ",
        "outputId": "ff69cf96-5384-4c2c-c84e-780db53a7b27"
      },
      "outputs": [
        {
          "output_type": "stream",
          "name": "stdout",
          "text": [
            "Looking in indexes: https://pypi.org/simple, https://us-python.pkg.dev/colab-wheels/public/simple/\n",
            "Collecting import_ipynb\n",
            "  Downloading import_ipynb-0.1.4-py3-none-any.whl (4.1 kB)\n",
            "Requirement already satisfied: nbformat in /usr/local/lib/python3.7/dist-packages (from import_ipynb) (5.4.0)\n",
            "Requirement already satisfied: IPython in /usr/local/lib/python3.7/dist-packages (from import_ipynb) (5.5.0)\n",
            "Requirement already satisfied: pygments in /usr/local/lib/python3.7/dist-packages (from IPython->import_ipynb) (2.6.1)\n",
            "Requirement already satisfied: simplegeneric>0.8 in /usr/local/lib/python3.7/dist-packages (from IPython->import_ipynb) (0.8.1)\n",
            "Requirement already satisfied: traitlets>=4.2 in /usr/local/lib/python3.7/dist-packages (from IPython->import_ipynb) (5.1.1)\n",
            "Requirement already satisfied: pickleshare in /usr/local/lib/python3.7/dist-packages (from IPython->import_ipynb) (0.7.5)\n",
            "Requirement already satisfied: setuptools>=18.5 in /usr/local/lib/python3.7/dist-packages (from IPython->import_ipynb) (57.4.0)\n",
            "Requirement already satisfied: prompt-toolkit<2.0.0,>=1.0.4 in /usr/local/lib/python3.7/dist-packages (from IPython->import_ipynb) (1.0.18)\n",
            "Requirement already satisfied: pexpect in /usr/local/lib/python3.7/dist-packages (from IPython->import_ipynb) (4.8.0)\n",
            "Requirement already satisfied: decorator in /usr/local/lib/python3.7/dist-packages (from IPython->import_ipynb) (4.4.2)\n",
            "Requirement already satisfied: wcwidth in /usr/local/lib/python3.7/dist-packages (from prompt-toolkit<2.0.0,>=1.0.4->IPython->import_ipynb) (0.2.5)\n",
            "Requirement already satisfied: six>=1.9.0 in /usr/local/lib/python3.7/dist-packages (from prompt-toolkit<2.0.0,>=1.0.4->IPython->import_ipynb) (1.15.0)\n",
            "Requirement already satisfied: fastjsonschema in /usr/local/lib/python3.7/dist-packages (from nbformat->import_ipynb) (2.15.3)\n",
            "Requirement already satisfied: jupyter-core in /usr/local/lib/python3.7/dist-packages (from nbformat->import_ipynb) (4.10.0)\n",
            "Requirement already satisfied: jsonschema>=2.6 in /usr/local/lib/python3.7/dist-packages (from nbformat->import_ipynb) (4.3.3)\n",
            "Requirement already satisfied: attrs>=17.4.0 in /usr/local/lib/python3.7/dist-packages (from jsonschema>=2.6->nbformat->import_ipynb) (21.4.0)\n",
            "Requirement already satisfied: pyrsistent!=0.17.0,!=0.17.1,!=0.17.2,>=0.14.0 in /usr/local/lib/python3.7/dist-packages (from jsonschema>=2.6->nbformat->import_ipynb) (0.18.1)\n",
            "Requirement already satisfied: importlib-metadata in /usr/local/lib/python3.7/dist-packages (from jsonschema>=2.6->nbformat->import_ipynb) (4.11.4)\n",
            "Requirement already satisfied: typing-extensions in /usr/local/lib/python3.7/dist-packages (from jsonschema>=2.6->nbformat->import_ipynb) (4.1.1)\n",
            "Requirement already satisfied: importlib-resources>=1.4.0 in /usr/local/lib/python3.7/dist-packages (from jsonschema>=2.6->nbformat->import_ipynb) (5.7.1)\n",
            "Requirement already satisfied: zipp>=3.1.0 in /usr/local/lib/python3.7/dist-packages (from importlib-resources>=1.4.0->jsonschema>=2.6->nbformat->import_ipynb) (3.8.0)\n",
            "Requirement already satisfied: ptyprocess>=0.5 in /usr/local/lib/python3.7/dist-packages (from pexpect->IPython->import_ipynb) (0.7.0)\n",
            "Installing collected packages: import-ipynb\n",
            "Successfully installed import-ipynb-0.1.4\n",
            "Looking in indexes: https://pypi.org/simple, https://us-python.pkg.dev/colab-wheels/public/simple/\n",
            "Collecting csbdeep\n",
            "  Downloading csbdeep-0.7.2-py2.py3-none-any.whl (69 kB)\n",
            "\u001b[K     |████████████████████████████████| 69 kB 4.4 MB/s \n",
            "\u001b[?25hRequirement already satisfied: matplotlib in /usr/local/lib/python3.7/dist-packages (from csbdeep) (3.2.2)\n",
            "Requirement already satisfied: tqdm in /usr/local/lib/python3.7/dist-packages (from csbdeep) (4.64.0)\n",
            "Requirement already satisfied: numpy in /usr/local/lib/python3.7/dist-packages (from csbdeep) (1.21.6)\n",
            "Requirement already satisfied: scipy in /usr/local/lib/python3.7/dist-packages (from csbdeep) (1.4.1)\n",
            "Requirement already satisfied: tifffile in /usr/local/lib/python3.7/dist-packages (from csbdeep) (2021.11.2)\n",
            "Requirement already satisfied: six in /usr/local/lib/python3.7/dist-packages (from csbdeep) (1.15.0)\n",
            "Requirement already satisfied: packaging in /usr/local/lib/python3.7/dist-packages (from csbdeep) (21.3)\n",
            "Collecting h5py<3\n",
            "  Downloading h5py-2.10.0-cp37-cp37m-manylinux1_x86_64.whl (2.9 MB)\n",
            "\u001b[K     |████████████████████████████████| 2.9 MB 16.4 MB/s \n",
            "\u001b[?25hRequirement already satisfied: kiwisolver>=1.0.1 in /usr/local/lib/python3.7/dist-packages (from matplotlib->csbdeep) (1.4.3)\n",
            "Requirement already satisfied: python-dateutil>=2.1 in /usr/local/lib/python3.7/dist-packages (from matplotlib->csbdeep) (2.8.2)\n",
            "Requirement already satisfied: pyparsing!=2.0.4,!=2.1.2,!=2.1.6,>=2.0.1 in /usr/local/lib/python3.7/dist-packages (from matplotlib->csbdeep) (3.0.9)\n",
            "Requirement already satisfied: cycler>=0.10 in /usr/local/lib/python3.7/dist-packages (from matplotlib->csbdeep) (0.11.0)\n",
            "Requirement already satisfied: typing-extensions in /usr/local/lib/python3.7/dist-packages (from kiwisolver>=1.0.1->matplotlib->csbdeep) (4.1.1)\n",
            "Installing collected packages: h5py, csbdeep\n",
            "  Attempting uninstall: h5py\n",
            "    Found existing installation: h5py 3.1.0\n",
            "    Uninstalling h5py-3.1.0:\n",
            "      Successfully uninstalled h5py-3.1.0\n",
            "Successfully installed csbdeep-0.7.2 h5py-2.10.0\n"
          ]
        }
      ],
      "source": [
        "# !pip install tifffile\n",
        "# !pip install sklearn\n",
        "# !pip install scikit-image\n",
        "!pip install import_ipynb\n",
        "!pip install csbdeep"
      ]
    },
    {
      "cell_type": "code",
      "execution_count": null,
      "metadata": {
        "id": "LifpYpngkMdr"
      },
      "outputs": [],
      "source": [
        "%load_ext autoreload\n",
        "%autoreload 2"
      ]
    },
    {
      "cell_type": "code",
      "execution_count": null,
      "metadata": {
        "id": "llrATjkAkOWS"
      },
      "outputs": [],
      "source": [
        "MAIN_PATH = r\"/objective_transfer/\""
      ]
    },
    {
      "cell_type": "code",
      "execution_count": null,
      "metadata": {
        "colab": {
          "base_uri": "https://localhost:8080/"
        },
        "id": "aeuaFZ0TkQPa",
        "outputId": "f4255662-d2cc-4d63-9d2b-1d7bfe73a154"
      },
      "outputs": [
        {
          "output_type": "stream",
          "name": "stdout",
          "text": [
            "Mounted at /content/drive\n"
          ]
        }
      ],
      "source": [
        "# importing dependencies\n",
        "import matplotlib.pyplot as plt\n",
        "import sklearn\n",
        "import sklearn.model_selection\n",
        "import skimage\n",
        "import math\n",
        "import numpy as np\n",
        "from sklearn import preprocessing\n",
        "import psutil\n",
        "import tensorflow as tf\n",
        "import yaml\n",
        "from tensorflow.keras import layers, models\n",
        "import math\n",
        "from google.colab import drive\n",
        "import sys\n",
        "import os\n",
        "drive.mount('/content/drive')"
      ]
    },
    {
      "cell_type": "code",
      "execution_count": null,
      "metadata": {
        "id": "RD5bB0mgkZLG",
        "colab": {
          "base_uri": "https://localhost:8080/"
        },
        "outputId": "ea3e6ce7-8ba6-481c-8df1-c137edad561e"
      },
      "outputs": [
        {
          "output_type": "stream",
          "name": "stdout",
          "text": [
            "importing Jupyter notebook from CARE_util.ipynb\n"
          ]
        }
      ],
      "source": [
        "os.chdir(MAIN_PATH+'deep_learning/CAREstd/')\n",
        "# !ls\n",
        "import import_ipynb\n",
        "from CARE_config import *\n",
        "from CARE_util import *\n",
        "config = config_vars()"
      ]
    },
    {
      "cell_type": "code",
      "execution_count": null,
      "metadata": {
        "id": "l8kY8ab0kcEd"
      },
      "outputs": [],
      "source": [
        "# Loading preprocessed image patches\n",
        "b = np.load(MAIN_PATH+'/deep_learning/npz/'+'Cervix_all_data1.npz')\n",
        "# training_data = np.zeros(b['t'].shape)\n",
        "training_data = b['t']\n",
        "val_data = b['v']\n",
        "test_data = b['te']\n",
        "b = np.load(MAIN_PATH+'/deep_learning/npz/'+'Cervix_all_data_labels1.npz')\n",
        "# training_data_labels = np.zeros(b['t'].shape)\n",
        "training_data_labels = b['t']\n",
        "val_data_labels = b['v']\n",
        "test_data_labels = b['te']\n",
        "del b"
      ]
    },
    {
      "cell_type": "code",
      "execution_count": null,
      "metadata": {
        "id": "4HjtbNTWke9w"
      },
      "outputs": [],
      "source": [
        "import numpy as np\n",
        "import matplotlib.pyplot as plt\n",
        "%matplotlib inline\n",
        "%config InlineBackend.figure_format = 'retina'\n",
        "\n",
        "from tifffile import imread\n",
        "from csbdeep.utils import axes_dict, plot_some, plot_history\n",
        "from csbdeep.utils.tf import limit_gpu_memory\n",
        "from csbdeep.io import load_training_data\n",
        "from csbdeep.models import Config, CARE"
      ]
    },
    {
      "cell_type": "code",
      "execution_count": null,
      "metadata": {
        "id": "JwwL7Z0zkeaC"
      },
      "outputs": [],
      "source": [
        "axes='YXC'\n",
        "n_channel_in=1\n",
        "n_channel_out=1\n",
        "n_depth=2\n",
        "kern_size=5\n",
        "dropout= 0\n",
        "n_first=32\n",
        "n_channel_out=1\n",
        "residual=True\n",
        "last_activation='relu'\n",
        "train_learning_rate = 0.0001\n",
        "train_batch_size=8\n",
        "train_epochs=1000"
      ]
    },
    {
      "cell_type": "code",
      "execution_count": null,
      "metadata": {
        "colab": {
          "base_uri": "https://localhost:8080/"
        },
        "id": "QgzCmGw-lFom",
        "outputId": "f416c097-1e9a-4478-c471-356616d24ece"
      },
      "outputs": [
        {
          "output_type": "stream",
          "name": "stdout",
          "text": [
            "Config(axes='YXC', n_channel_in=1, n_channel_out=1, n_dim=2, probabilistic=False, train_batch_size=8, train_checkpoint='weights_best.h5', train_checkpoint_epoch='weights_now.h5', train_checkpoint_last='weights_last.h5', train_epochs=1000, train_learning_rate=0.0001, train_loss='mae', train_reduce_lr={'factor': 0.99, 'min_delta': 0, 'patience': 10, 'min_lr': 1e-06}, train_steps_per_epoch=175, train_tensorboard=True, unet_input_shape=(None, None, 1), unet_kern_size=5, unet_last_activation='linear', unet_n_depth=2, unet_n_first=32, unet_residual=True)\n"
          ]
        },
        {
          "output_type": "execute_result",
          "data": {
            "text/plain": [
              "{'axes': 'YXC',\n",
              " 'n_channel_in': 1,\n",
              " 'n_channel_out': 1,\n",
              " 'n_dim': 2,\n",
              " 'probabilistic': False,\n",
              " 'train_batch_size': 8,\n",
              " 'train_checkpoint': 'weights_best.h5',\n",
              " 'train_checkpoint_epoch': 'weights_now.h5',\n",
              " 'train_checkpoint_last': 'weights_last.h5',\n",
              " 'train_epochs': 1000,\n",
              " 'train_learning_rate': 0.0001,\n",
              " 'train_loss': 'mae',\n",
              " 'train_reduce_lr': {'factor': 0.99,\n",
              "  'min_delta': 0,\n",
              "  'min_lr': 1e-06,\n",
              "  'patience': 10},\n",
              " 'train_steps_per_epoch': 175,\n",
              " 'train_tensorboard': True,\n",
              " 'unet_input_shape': (None, None, 1),\n",
              " 'unet_kern_size': 5,\n",
              " 'unet_last_activation': 'linear',\n",
              " 'unet_n_depth': 2,\n",
              " 'unet_n_first': 32,\n",
              " 'unet_residual': True}"
            ]
          },
          "metadata": {},
          "execution_count": 9
        }
      ],
      "source": [
        "train_reduce_lr = {'factor':0.99,'min_delta':0,'patience':10, 'min_lr':0.000001}\n",
        "config = Config(axes, n_channel_in, n_channel_out, unet_kern_size=kern_size, train_batch_size=train_batch_size, train_steps_per_epoch=175,unet_n_depth=n_depth,train_reduce_lr=train_reduce_lr,train_learning_rate=train_learning_rate,train_epochs=train_epochs)\n",
        "print(config)\n",
        "vars(config)"
      ]
    },
    {
      "cell_type": "code",
      "execution_count": null,
      "metadata": {
        "colab": {
          "base_uri": "https://localhost:8080/"
        },
        "id": "4eA5MffelhHm",
        "outputId": "955d5f80-aa12-4055-fcc6-c701b603e9a1"
      },
      "outputs": [
        {
          "output_type": "stream",
          "name": "stderr",
          "text": [
            "/usr/local/lib/python3.7/dist-packages/csbdeep/models/base_model.py:149: UserWarning: output path for model already exists, files may be overwritten: /content/drive/MyDrive/Research and Grad/Diamond Program/objective_transfer/models/my_model\n",
            "  warnings.warn('output path for model already exists, files may be overwritten: %s' % str(self.logdir.resolve()))\n"
          ]
        }
      ],
      "source": [
        "model = CARE(config, 'my_model', basedir='models')"
      ]
    },
    {
      "cell_type": "code",
      "execution_count": null,
      "metadata": {
        "colab": {
          "base_uri": "https://localhost:8080/"
        },
        "id": "qf6Gtk6xlkh_",
        "outputId": "0ac93a5c-75eb-48be-aff8-54bd3257b38b"
      },
      "outputs": [
        {
          "output_type": "stream",
          "name": "stdout",
          "text": [
            "Model: \"model\"\n",
            "__________________________________________________________________________________________________\n",
            " Layer (type)                   Output Shape         Param #     Connected to                     \n",
            "==================================================================================================\n",
            " input (InputLayer)             [(None, None, None,  0           []                               \n",
            "                                 1)]                                                              \n",
            "                                                                                                  \n",
            " down_level_0_no_0 (Conv2D)     (None, None, None,   832         ['input[0][0]']                  \n",
            "                                32)                                                               \n",
            "                                                                                                  \n",
            " down_level_0_no_1 (Conv2D)     (None, None, None,   25632       ['down_level_0_no_0[0][0]']      \n",
            "                                32)                                                               \n",
            "                                                                                                  \n",
            " max_0 (MaxPooling2D)           (None, None, None,   0           ['down_level_0_no_1[0][0]']      \n",
            "                                32)                                                               \n",
            "                                                                                                  \n",
            " down_level_1_no_0 (Conv2D)     (None, None, None,   51264       ['max_0[0][0]']                  \n",
            "                                64)                                                               \n",
            "                                                                                                  \n",
            " down_level_1_no_1 (Conv2D)     (None, None, None,   102464      ['down_level_1_no_0[0][0]']      \n",
            "                                64)                                                               \n",
            "                                                                                                  \n",
            " max_1 (MaxPooling2D)           (None, None, None,   0           ['down_level_1_no_1[0][0]']      \n",
            "                                64)                                                               \n",
            "                                                                                                  \n",
            " middle_0 (Conv2D)              (None, None, None,   204928      ['max_1[0][0]']                  \n",
            "                                128)                                                              \n",
            "                                                                                                  \n",
            " middle_2 (Conv2D)              (None, None, None,   204864      ['middle_0[0][0]']               \n",
            "                                64)                                                               \n",
            "                                                                                                  \n",
            " up_sampling2d (UpSampling2D)   (None, None, None,   0           ['middle_2[0][0]']               \n",
            "                                64)                                                               \n",
            "                                                                                                  \n",
            " concatenate (Concatenate)      (None, None, None,   0           ['up_sampling2d[0][0]',          \n",
            "                                128)                              'down_level_1_no_1[0][0]']      \n",
            "                                                                                                  \n",
            " up_level_1_no_0 (Conv2D)       (None, None, None,   204864      ['concatenate[0][0]']            \n",
            "                                64)                                                               \n",
            "                                                                                                  \n",
            " up_level_1_no_2 (Conv2D)       (None, None, None,   51232       ['up_level_1_no_0[0][0]']        \n",
            "                                32)                                                               \n",
            "                                                                                                  \n",
            " up_sampling2d_1 (UpSampling2D)  (None, None, None,   0          ['up_level_1_no_2[0][0]']        \n",
            "                                32)                                                               \n",
            "                                                                                                  \n",
            " concatenate_1 (Concatenate)    (None, None, None,   0           ['up_sampling2d_1[0][0]',        \n",
            "                                64)                               'down_level_0_no_1[0][0]']      \n",
            "                                                                                                  \n",
            " up_level_0_no_0 (Conv2D)       (None, None, None,   51232       ['concatenate_1[0][0]']          \n",
            "                                32)                                                               \n",
            "                                                                                                  \n",
            " up_level_0_no_2 (Conv2D)       (None, None, None,   25632       ['up_level_0_no_0[0][0]']        \n",
            "                                32)                                                               \n",
            "                                                                                                  \n",
            " conv2d (Conv2D)                (None, None, None,   33          ['up_level_0_no_2[0][0]']        \n",
            "                                1)                                                                \n",
            "                                                                                                  \n",
            " add (Add)                      (None, None, None,   0           ['conv2d[0][0]',                 \n",
            "                                1)                                'input[0][0]']                  \n",
            "                                                                                                  \n",
            " activation (Activation)        (None, None, None,   0           ['add[0][0]']                    \n",
            "                                1)                                                                \n",
            "                                                                                                  \n",
            "==================================================================================================\n",
            "Total params: 922,977\n",
            "Trainable params: 922,977\n",
            "Non-trainable params: 0\n",
            "__________________________________________________________________________________________________\n"
          ]
        }
      ],
      "source": [
        "model.keras_model.summary()"
      ]
    },
    {
      "cell_type": "code",
      "execution_count": null,
      "metadata": {
        "colab": {
          "base_uri": "https://localhost:8080/"
        },
        "id": "xKdlbTwSlzBq",
        "outputId": "f3700ec7-2181-4579-f3a5-c203973aeb41"
      },
      "outputs": [
        {
          "output_type": "stream",
          "name": "stdout",
          "text": [
            "(9112, 128, 128)\n",
            "(9112, 128, 128, 1)\n"
          ]
        }
      ],
      "source": [
        "print(np.shape(training_data))\n",
        "a_training_data = np.zeros(np.concatenate((np.shape(training_data),[1,]),axis=0))\n",
        "a_training_data_labels = np.zeros(np.concatenate((np.shape(training_data),[1,]),axis=0))\n",
        "a_val_data = np.zeros(np.concatenate((np.shape(val_data),[1,]),axis=0))\n",
        "a_val_data_labels = np.zeros(np.concatenate((np.shape(val_data),[1,]),axis=0))\n",
        "\n",
        "print(np.shape(a_training_data))\n",
        "a_training_data[:,:,:,0] = training_data[:,:,:]\n",
        "a_training_data_labels[:,:,:,0] = training_data_labels[:,:,:]\n",
        "a_val_data[:,:,:,0] = val_data[:,:,:]\n",
        "a_val_data_labels[:,:,:,0] = val_data_labels[:,:,:]"
      ]
    },
    {
      "cell_type": "code",
      "execution_count": null,
      "metadata": {
        "colab": {
          "base_uri": "https://localhost:8080/",
          "height": 1000
        },
        "id": "6UtvAWFSlpbS",
        "outputId": "bef8e843-41bc-4c0f-8880-235649bb5571"
      },
      "outputs": [
        {
          "output_type": "stream",
          "name": "stdout",
          "text": [
            "YXC\n"
          ]
        },
        {
          "output_type": "stream",
          "name": "stderr",
          "text": [
            "/usr/local/lib/python3.7/dist-packages/csbdeep/models/care_standard.py:167: UserWarning: small number of validation images (only 0.0% of all images)\n",
            "  warnings.warn(\"small number of validation images (only %.1f%% of all images)\" % (100*frac_val))\n"
          ]
        },
        {
          "output_type": "stream",
          "name": "stdout",
          "text": [
            "Epoch 1/1000\n",
            "WARNING:tensorflow:AutoGraph could not transform <function _mean_or_not.<locals>.<lambda> at 0x7fca301a0dd0> and will run it as-is.\n",
            "Cause: could not parse the source code of <function _mean_or_not.<locals>.<lambda> at 0x7fca301a0dd0>: found multiple definitions with identical signatures at the location. This error may be avoided by defining each lambda on a single line and with unique argument names. The matching definitions were:\n",
            "Match 0:\n",
            "(lambda x: K.mean(x, axis=(- 1)))\n",
            "\n",
            "Match 1:\n",
            "(lambda x: x)\n",
            "\n",
            "To silence this warning, decorate the function with @tf.autograph.experimental.do_not_convert\n",
            "WARNING: AutoGraph could not transform <function _mean_or_not.<locals>.<lambda> at 0x7fca301a0dd0> and will run it as-is.\n",
            "Cause: could not parse the source code of <function _mean_or_not.<locals>.<lambda> at 0x7fca301a0dd0>: found multiple definitions with identical signatures at the location. This error may be avoided by defining each lambda on a single line and with unique argument names. The matching definitions were:\n",
            "Match 0:\n",
            "(lambda x: K.mean(x, axis=(- 1)))\n",
            "\n",
            "Match 1:\n",
            "(lambda x: x)\n",
            "\n",
            "To silence this warning, decorate the function with @tf.autograph.experimental.do_not_convert\n",
            "WARNING:tensorflow:AutoGraph could not transform <function _mean_or_not.<locals>.<lambda> at 0x7fca301a0f80> and will run it as-is.\n",
            "Cause: could not parse the source code of <function _mean_or_not.<locals>.<lambda> at 0x7fca301a0f80>: found multiple definitions with identical signatures at the location. This error may be avoided by defining each lambda on a single line and with unique argument names. The matching definitions were:\n",
            "Match 0:\n",
            "(lambda x: K.mean(x, axis=(- 1)))\n",
            "\n",
            "Match 1:\n",
            "(lambda x: x)\n",
            "\n",
            "To silence this warning, decorate the function with @tf.autograph.experimental.do_not_convert\n",
            "WARNING: AutoGraph could not transform <function _mean_or_not.<locals>.<lambda> at 0x7fca301a0f80> and will run it as-is.\n",
            "Cause: could not parse the source code of <function _mean_or_not.<locals>.<lambda> at 0x7fca301a0f80>: found multiple definitions with identical signatures at the location. This error may be avoided by defining each lambda on a single line and with unique argument names. The matching definitions were:\n",
            "Match 0:\n",
            "(lambda x: K.mean(x, axis=(- 1)))\n",
            "\n",
            "Match 1:\n",
            "(lambda x: x)\n",
            "\n",
            "To silence this warning, decorate the function with @tf.autograph.experimental.do_not_convert\n",
            "WARNING:tensorflow:AutoGraph could not transform <function _mean_or_not.<locals>.<lambda> at 0x7fca301a90e0> and will run it as-is.\n",
            "Cause: could not parse the source code of <function _mean_or_not.<locals>.<lambda> at 0x7fca301a90e0>: found multiple definitions with identical signatures at the location. This error may be avoided by defining each lambda on a single line and with unique argument names. The matching definitions were:\n",
            "Match 0:\n",
            "(lambda x: K.mean(x, axis=(- 1)))\n",
            "\n",
            "Match 1:\n",
            "(lambda x: x)\n",
            "\n",
            "To silence this warning, decorate the function with @tf.autograph.experimental.do_not_convert\n",
            "WARNING: AutoGraph could not transform <function _mean_or_not.<locals>.<lambda> at 0x7fca301a90e0> and will run it as-is.\n",
            "Cause: could not parse the source code of <function _mean_or_not.<locals>.<lambda> at 0x7fca301a90e0>: found multiple definitions with identical signatures at the location. This error may be avoided by defining each lambda on a single line and with unique argument names. The matching definitions were:\n",
            "Match 0:\n",
            "(lambda x: K.mean(x, axis=(- 1)))\n",
            "\n",
            "Match 1:\n",
            "(lambda x: x)\n",
            "\n",
            "To silence this warning, decorate the function with @tf.autograph.experimental.do_not_convert\n",
            "  5/175 [..............................] - ETA: 6s - loss: 0.1841 - mse: 0.0557 - mae: 0.1841WARNING:tensorflow:Callback method `on_train_batch_end` is slow compared to the batch time (batch time: 0.0166s vs `on_train_batch_end` time: 0.0191s). Check your callbacks.\n",
            "175/175 [==============================] - 21s 50ms/step - loss: 0.1473 - mse: 0.0360 - mae: 0.1473 - val_loss: 0.1341 - val_mse: 0.0286 - val_mae: 0.1341 - lr: 1.0000e-04\n",
            "Epoch 2/1000\n",
            "175/175 [==============================] - 7s 41ms/step - loss: 0.1344 - mse: 0.0297 - mae: 0.1344 - val_loss: 0.1282 - val_mse: 0.0278 - val_mae: 0.1282 - lr: 1.0000e-04\n",
            "Epoch 3/1000\n",
            "175/175 [==============================] - 7s 40ms/step - loss: 0.1327 - mse: 0.0291 - mae: 0.1327 - val_loss: 0.1298 - val_mse: 0.0273 - val_mae: 0.1298 - lr: 1.0000e-04\n",
            "Epoch 4/1000\n",
            "175/175 [==============================] - 7s 42ms/step - loss: 0.1331 - mse: 0.0291 - mae: 0.1331 - val_loss: 0.1282 - val_mse: 0.0271 - val_mae: 0.1282 - lr: 1.0000e-04\n",
            "Epoch 5/1000\n",
            "175/175 [==============================] - 7s 40ms/step - loss: 0.1321 - mse: 0.0289 - mae: 0.1321 - val_loss: 0.1283 - val_mse: 0.0269 - val_mae: 0.1283 - lr: 1.0000e-04\n",
            "Epoch 6/1000\n",
            "175/175 [==============================] - 7s 42ms/step - loss: 0.1327 - mse: 0.0290 - mae: 0.1327 - val_loss: 0.1266 - val_mse: 0.0269 - val_mae: 0.1266 - lr: 1.0000e-04\n",
            "Epoch 7/1000\n",
            "175/175 [==============================] - 7s 41ms/step - loss: 0.1314 - mse: 0.0284 - mae: 0.1314 - val_loss: 0.1262 - val_mse: 0.0273 - val_mae: 0.1262 - lr: 1.0000e-04\n",
            "Epoch 8/1000\n",
            "175/175 [==============================] - 7s 40ms/step - loss: 0.1313 - mse: 0.0285 - mae: 0.1313 - val_loss: 0.1267 - val_mse: 0.0266 - val_mae: 0.1267 - lr: 1.0000e-04\n",
            "Epoch 9/1000\n",
            "175/175 [==============================] - 7s 42ms/step - loss: 0.1325 - mse: 0.0288 - mae: 0.1325 - val_loss: 0.1260 - val_mse: 0.0272 - val_mae: 0.1260 - lr: 1.0000e-04\n",
            "Epoch 10/1000\n",
            "175/175 [==============================] - 7s 41ms/step - loss: 0.1313 - mse: 0.0285 - mae: 0.1313 - val_loss: 0.1263 - val_mse: 0.0266 - val_mae: 0.1263 - lr: 1.0000e-04\n",
            "Epoch 11/1000\n",
            "175/175 [==============================] - 7s 42ms/step - loss: 0.1307 - mse: 0.0283 - mae: 0.1307 - val_loss: 0.1259 - val_mse: 0.0265 - val_mae: 0.1259 - lr: 1.0000e-04\n",
            "Epoch 12/1000\n",
            "175/175 [==============================] - 7s 41ms/step - loss: 0.1321 - mse: 0.0287 - mae: 0.1321 - val_loss: 0.1277 - val_mse: 0.0266 - val_mae: 0.1277 - lr: 1.0000e-04\n",
            "Epoch 13/1000\n",
            "175/175 [==============================] - 7s 42ms/step - loss: 0.1322 - mse: 0.0288 - mae: 0.1322 - val_loss: 0.1254 - val_mse: 0.0273 - val_mae: 0.1254 - lr: 1.0000e-04\n",
            "Epoch 14/1000\n",
            "175/175 [==============================] - 7s 41ms/step - loss: 0.1317 - mse: 0.0286 - mae: 0.1317 - val_loss: 0.1254 - val_mse: 0.0270 - val_mae: 0.1254 - lr: 1.0000e-04\n",
            "Epoch 15/1000\n",
            "175/175 [==============================] - 7s 42ms/step - loss: 0.1307 - mse: 0.0283 - mae: 0.1307 - val_loss: 0.1257 - val_mse: 0.0266 - val_mae: 0.1257 - lr: 1.0000e-04\n",
            "Epoch 16/1000\n",
            "175/175 [==============================] - 7s 42ms/step - loss: 0.1309 - mse: 0.0283 - mae: 0.1309 - val_loss: 0.1253 - val_mse: 0.0270 - val_mae: 0.1253 - lr: 1.0000e-04\n",
            "Epoch 17/1000\n",
            "175/175 [==============================] - 8s 45ms/step - loss: 0.1313 - mse: 0.0285 - mae: 0.1313 - val_loss: 0.1251 - val_mse: 0.0269 - val_mae: 0.1251 - lr: 1.0000e-04\n",
            "Epoch 18/1000\n",
            "175/175 [==============================] - 7s 41ms/step - loss: 0.1316 - mse: 0.0286 - mae: 0.1316 - val_loss: 0.1271 - val_mse: 0.0266 - val_mae: 0.1271 - lr: 1.0000e-04\n",
            "Epoch 19/1000\n",
            "175/175 [==============================] - 7s 42ms/step - loss: 0.1316 - mse: 0.0286 - mae: 0.1316 - val_loss: 0.1255 - val_mse: 0.0267 - val_mae: 0.1255 - lr: 1.0000e-04\n",
            "Epoch 20/1000\n",
            "175/175 [==============================] - 7s 41ms/step - loss: 0.1312 - mse: 0.0285 - mae: 0.1312 - val_loss: 0.1253 - val_mse: 0.0272 - val_mae: 0.1253 - lr: 1.0000e-04\n",
            "Epoch 21/1000\n",
            "175/175 [==============================] - 7s 41ms/step - loss: 0.1314 - mse: 0.0285 - mae: 0.1314 - val_loss: 0.1259 - val_mse: 0.0264 - val_mae: 0.1259 - lr: 1.0000e-04\n",
            "Epoch 22/1000\n",
            "175/175 [==============================] - 7s 42ms/step - loss: 0.1311 - mse: 0.0283 - mae: 0.1311 - val_loss: 0.1251 - val_mse: 0.0268 - val_mae: 0.1251 - lr: 1.0000e-04\n",
            "Epoch 23/1000\n",
            "175/175 [==============================] - 7s 40ms/step - loss: 0.1312 - mse: 0.0285 - mae: 0.1312 - val_loss: 0.1254 - val_mse: 0.0265 - val_mae: 0.1254 - lr: 1.0000e-04\n",
            "Epoch 24/1000\n",
            "175/175 [==============================] - 7s 40ms/step - loss: 0.1306 - mse: 0.0283 - mae: 0.1306 - val_loss: 0.1266 - val_mse: 0.0264 - val_mae: 0.1266 - lr: 1.0000e-04\n",
            "Epoch 25/1000\n",
            "175/175 [==============================] - 7s 41ms/step - loss: 0.1307 - mse: 0.0283 - mae: 0.1307 - val_loss: 0.1254 - val_mse: 0.0264 - val_mae: 0.1254 - lr: 1.0000e-04\n",
            "Epoch 26/1000\n",
            "175/175 [==============================] - 7s 42ms/step - loss: 0.1318 - mse: 0.0286 - mae: 0.1318 - val_loss: 0.1262 - val_mse: 0.0268 - val_mae: 0.1262 - lr: 1.0000e-04\n",
            "Epoch 27/1000\n",
            "175/175 [==============================] - 7s 40ms/step - loss: 0.1325 - mse: 0.0290 - mae: 0.1325 - val_loss: 0.1262 - val_mse: 0.0264 - val_mae: 0.1262 - lr: 1.0000e-04\n",
            "Epoch 28/1000\n",
            "175/175 [==============================] - 7s 42ms/step - loss: 0.1306 - mse: 0.0282 - mae: 0.1306 - val_loss: 0.1260 - val_mse: 0.0268 - val_mae: 0.1260 - lr: 1.0000e-04\n",
            "Epoch 29/1000\n",
            "175/175 [==============================] - 7s 42ms/step - loss: 0.1309 - mse: 0.0284 - mae: 0.1309 - val_loss: 0.1247 - val_mse: 0.0267 - val_mae: 0.1247 - lr: 1.0000e-04\n",
            "Epoch 30/1000\n",
            "175/175 [==============================] - 7s 40ms/step - loss: 0.1303 - mse: 0.0281 - mae: 0.1303 - val_loss: 0.1252 - val_mse: 0.0265 - val_mae: 0.1252 - lr: 1.0000e-04\n",
            "Epoch 31/1000\n",
            "175/175 [==============================] - 7s 42ms/step - loss: 0.1316 - mse: 0.0286 - mae: 0.1316 - val_loss: 0.1246 - val_mse: 0.0266 - val_mae: 0.1246 - lr: 1.0000e-04\n",
            "Epoch 32/1000\n",
            "175/175 [==============================] - 7s 43ms/step - loss: 0.1304 - mse: 0.0281 - mae: 0.1304 - val_loss: 0.1254 - val_mse: 0.0271 - val_mae: 0.1254 - lr: 1.0000e-04\n",
            "Epoch 33/1000\n",
            "175/175 [==============================] - 7s 41ms/step - loss: 0.1313 - mse: 0.0285 - mae: 0.1313 - val_loss: 0.1250 - val_mse: 0.0264 - val_mae: 0.1250 - lr: 1.0000e-04\n",
            "Epoch 34/1000\n",
            "175/175 [==============================] - 7s 41ms/step - loss: 0.1304 - mse: 0.0282 - mae: 0.1304 - val_loss: 0.1250 - val_mse: 0.0265 - val_mae: 0.1250 - lr: 1.0000e-04\n",
            "Epoch 35/1000\n",
            "175/175 [==============================] - 7s 42ms/step - loss: 0.1313 - mse: 0.0285 - mae: 0.1313 - val_loss: 0.1256 - val_mse: 0.0264 - val_mae: 0.1256 - lr: 1.0000e-04\n",
            "Epoch 36/1000\n",
            "175/175 [==============================] - 7s 41ms/step - loss: 0.1312 - mse: 0.0284 - mae: 0.1312 - val_loss: 0.1251 - val_mse: 0.0264 - val_mae: 0.1251 - lr: 1.0000e-04\n",
            "Epoch 37/1000\n",
            "175/175 [==============================] - 7s 42ms/step - loss: 0.1298 - mse: 0.0280 - mae: 0.1298 - val_loss: 0.1255 - val_mse: 0.0264 - val_mae: 0.1255 - lr: 1.0000e-04\n",
            "Epoch 38/1000\n",
            "175/175 [==============================] - 7s 41ms/step - loss: 0.1316 - mse: 0.0286 - mae: 0.1316 - val_loss: 0.1262 - val_mse: 0.0266 - val_mae: 0.1262 - lr: 1.0000e-04\n",
            "Epoch 39/1000\n",
            "175/175 [==============================] - 8s 44ms/step - loss: 0.1304 - mse: 0.0281 - mae: 0.1304 - val_loss: 0.1247 - val_mse: 0.0264 - val_mae: 0.1247 - lr: 1.0000e-04\n",
            "Epoch 40/1000\n",
            "175/175 [==============================] - 8s 47ms/step - loss: 0.1309 - mse: 0.0283 - mae: 0.1309 - val_loss: 0.1245 - val_mse: 0.0269 - val_mae: 0.1245 - lr: 1.0000e-04\n",
            "Epoch 41/1000\n",
            "175/175 [==============================] - 8s 45ms/step - loss: 0.1309 - mse: 0.0283 - mae: 0.1309 - val_loss: 0.1261 - val_mse: 0.0264 - val_mae: 0.1261 - lr: 1.0000e-04\n",
            "Epoch 42/1000\n",
            "175/175 [==============================] - 8s 43ms/step - loss: 0.1304 - mse: 0.0282 - mae: 0.1304 - val_loss: 0.1254 - val_mse: 0.0264 - val_mae: 0.1254 - lr: 1.0000e-04\n",
            "Epoch 43/1000\n",
            "175/175 [==============================] - 8s 43ms/step - loss: 0.1307 - mse: 0.0283 - mae: 0.1307 - val_loss: 0.1255 - val_mse: 0.0264 - val_mae: 0.1255 - lr: 1.0000e-04\n",
            "Epoch 44/1000\n",
            "175/175 [==============================] - 8s 44ms/step - loss: 0.1308 - mse: 0.0284 - mae: 0.1308 - val_loss: 0.1271 - val_mse: 0.0265 - val_mae: 0.1271 - lr: 1.0000e-04\n",
            "Epoch 45/1000\n",
            "175/175 [==============================] - 8s 43ms/step - loss: 0.1303 - mse: 0.0282 - mae: 0.1303 - val_loss: 0.1260 - val_mse: 0.0264 - val_mae: 0.1260 - lr: 1.0000e-04\n",
            "Epoch 46/1000\n",
            "175/175 [==============================] - 8s 43ms/step - loss: 0.1309 - mse: 0.0283 - mae: 0.1309 - val_loss: 0.1254 - val_mse: 0.0265 - val_mae: 0.1254 - lr: 1.0000e-04\n",
            "Epoch 47/1000\n",
            "175/175 [==============================] - 8s 43ms/step - loss: 0.1302 - mse: 0.0280 - mae: 0.1302 - val_loss: 0.1290 - val_mse: 0.0269 - val_mae: 0.1290 - lr: 1.0000e-04\n",
            "Epoch 48/1000\n",
            "175/175 [==============================] - 8s 45ms/step - loss: 0.1311 - mse: 0.0284 - mae: 0.1311 - val_loss: 0.1256 - val_mse: 0.0264 - val_mae: 0.1256 - lr: 1.0000e-04\n",
            "Epoch 49/1000\n",
            "175/175 [==============================] - 8s 43ms/step - loss: 0.1313 - mse: 0.0285 - mae: 0.1313 - val_loss: 0.1254 - val_mse: 0.0265 - val_mae: 0.1254 - lr: 1.0000e-04\n",
            "Epoch 50/1000\n",
            "174/175 [============================>.] - ETA: 0s - loss: 0.1305 - mse: 0.0283 - mae: 0.1305\n",
            "Epoch 50: ReduceLROnPlateau reducing learning rate to 9.899999749904965e-05.\n",
            "175/175 [==============================] - 8s 45ms/step - loss: 0.1305 - mse: 0.0282 - mae: 0.1305 - val_loss: 0.1250 - val_mse: 0.0265 - val_mae: 0.1250 - lr: 1.0000e-04\n",
            "Epoch 51/1000\n",
            "175/175 [==============================] - 8s 43ms/step - loss: 0.1298 - mse: 0.0279 - mae: 0.1298 - val_loss: 0.1251 - val_mse: 0.0263 - val_mae: 0.1251 - lr: 9.9000e-05\n",
            "Epoch 52/1000\n",
            "175/175 [==============================] - 8s 45ms/step - loss: 0.1307 - mse: 0.0283 - mae: 0.1307 - val_loss: 0.1255 - val_mse: 0.0264 - val_mae: 0.1255 - lr: 9.9000e-05\n",
            "Epoch 53/1000\n",
            "175/175 [==============================] - 8s 43ms/step - loss: 0.1304 - mse: 0.0282 - mae: 0.1304 - val_loss: 0.1256 - val_mse: 0.0264 - val_mae: 0.1256 - lr: 9.9000e-05\n",
            "Epoch 54/1000\n",
            "175/175 [==============================] - 8s 43ms/step - loss: 0.1307 - mse: 0.0282 - mae: 0.1307 - val_loss: 0.1246 - val_mse: 0.0268 - val_mae: 0.1246 - lr: 9.9000e-05\n",
            "Epoch 55/1000\n",
            "175/175 [==============================] - 7s 43ms/step - loss: 0.1297 - mse: 0.0278 - mae: 0.1297 - val_loss: 0.1247 - val_mse: 0.0263 - val_mae: 0.1247 - lr: 9.9000e-05\n",
            "Epoch 56/1000\n",
            "175/175 [==============================] - 7s 42ms/step - loss: 0.1318 - mse: 0.0287 - mae: 0.1318 - val_loss: 0.1258 - val_mse: 0.0264 - val_mae: 0.1258 - lr: 9.9000e-05\n",
            "Epoch 57/1000\n",
            "175/175 [==============================] - 7s 41ms/step - loss: 0.1301 - mse: 0.0281 - mae: 0.1301 - val_loss: 0.1250 - val_mse: 0.0264 - val_mae: 0.1250 - lr: 9.9000e-05\n",
            "Epoch 58/1000\n",
            "175/175 [==============================] - 8s 44ms/step - loss: 0.1310 - mse: 0.0284 - mae: 0.1310 - val_loss: 0.1242 - val_mse: 0.0267 - val_mae: 0.1242 - lr: 9.9000e-05\n",
            "Epoch 59/1000\n",
            "175/175 [==============================] - 7s 41ms/step - loss: 0.1294 - mse: 0.0277 - mae: 0.1294 - val_loss: 0.1267 - val_mse: 0.0264 - val_mae: 0.1267 - lr: 9.9000e-05\n",
            "Epoch 60/1000\n",
            "175/175 [==============================] - 7s 43ms/step - loss: 0.1308 - mse: 0.0284 - mae: 0.1308 - val_loss: 0.1244 - val_mse: 0.0263 - val_mae: 0.1244 - lr: 9.9000e-05\n",
            "Epoch 61/1000\n",
            "175/175 [==============================] - 7s 41ms/step - loss: 0.1301 - mse: 0.0281 - mae: 0.1301 - val_loss: 0.1243 - val_mse: 0.0264 - val_mae: 0.1243 - lr: 9.9000e-05\n",
            "Epoch 62/1000\n",
            "175/175 [==============================] - 7s 43ms/step - loss: 0.1304 - mse: 0.0281 - mae: 0.1304 - val_loss: 0.1243 - val_mse: 0.0265 - val_mae: 0.1243 - lr: 9.9000e-05\n",
            "Epoch 63/1000\n",
            "175/175 [==============================] - 7s 41ms/step - loss: 0.1307 - mse: 0.0282 - mae: 0.1307 - val_loss: 0.1247 - val_mse: 0.0270 - val_mae: 0.1247 - lr: 9.9000e-05\n",
            "Epoch 64/1000\n",
            "175/175 [==============================] - 7s 43ms/step - loss: 0.1304 - mse: 0.0282 - mae: 0.1304 - val_loss: 0.1254 - val_mse: 0.0264 - val_mae: 0.1254 - lr: 9.9000e-05\n",
            "Epoch 65/1000\n",
            "175/175 [==============================] - 7s 41ms/step - loss: 0.1305 - mse: 0.0282 - mae: 0.1305 - val_loss: 0.1247 - val_mse: 0.0265 - val_mae: 0.1247 - lr: 9.9000e-05\n",
            "Epoch 66/1000\n",
            "175/175 [==============================] - 7s 41ms/step - loss: 0.1293 - mse: 0.0278 - mae: 0.1293 - val_loss: 0.1245 - val_mse: 0.0264 - val_mae: 0.1245 - lr: 9.9000e-05\n",
            "Epoch 67/1000\n",
            "175/175 [==============================] - 7s 41ms/step - loss: 0.1308 - mse: 0.0283 - mae: 0.1308 - val_loss: 0.1244 - val_mse: 0.0267 - val_mae: 0.1244 - lr: 9.9000e-05\n",
            "Epoch 68/1000\n",
            "175/175 [==============================] - ETA: 0s - loss: 0.1311 - mse: 0.0284 - mae: 0.1311\n",
            "Epoch 68: ReduceLROnPlateau reducing learning rate to 9.800999716389924e-05.\n",
            "175/175 [==============================] - 8s 43ms/step - loss: 0.1311 - mse: 0.0284 - mae: 0.1311 - val_loss: 0.1245 - val_mse: 0.0269 - val_mae: 0.1245 - lr: 9.9000e-05\n",
            "Epoch 69/1000\n",
            "175/175 [==============================] - 7s 41ms/step - loss: 0.1300 - mse: 0.0281 - mae: 0.1300 - val_loss: 0.1250 - val_mse: 0.0263 - val_mae: 0.1250 - lr: 9.8010e-05\n",
            "Epoch 70/1000\n",
            "175/175 [==============================] - 7s 41ms/step - loss: 0.1305 - mse: 0.0282 - mae: 0.1305 - val_loss: 0.1258 - val_mse: 0.0265 - val_mae: 0.1258 - lr: 9.8010e-05\n",
            "Epoch 71/1000\n",
            "175/175 [==============================] - 8s 44ms/step - loss: 0.1297 - mse: 0.0279 - mae: 0.1297 - val_loss: 0.1242 - val_mse: 0.0267 - val_mae: 0.1242 - lr: 9.8010e-05\n",
            "Epoch 72/1000\n",
            "175/175 [==============================] - 7s 41ms/step - loss: 0.1308 - mse: 0.0284 - mae: 0.1308 - val_loss: 0.1255 - val_mse: 0.0265 - val_mae: 0.1255 - lr: 9.8010e-05\n",
            "Epoch 73/1000\n",
            "175/175 [==============================] - 8s 45ms/step - loss: 0.1298 - mse: 0.0280 - mae: 0.1298 - val_loss: 0.1242 - val_mse: 0.0266 - val_mae: 0.1242 - lr: 9.8010e-05\n",
            "Epoch 74/1000\n",
            "175/175 [==============================] - 8s 43ms/step - loss: 0.1302 - mse: 0.0281 - mae: 0.1302 - val_loss: 0.1251 - val_mse: 0.0265 - val_mae: 0.1251 - lr: 9.8010e-05\n",
            "Epoch 75/1000\n",
            "175/175 [==============================] - 8s 43ms/step - loss: 0.1302 - mse: 0.0281 - mae: 0.1302 - val_loss: 0.1244 - val_mse: 0.0266 - val_mae: 0.1244 - lr: 9.8010e-05\n",
            "Epoch 76/1000\n",
            "175/175 [==============================] - 8s 43ms/step - loss: 0.1307 - mse: 0.0283 - mae: 0.1307 - val_loss: 0.1251 - val_mse: 0.0265 - val_mae: 0.1251 - lr: 9.8010e-05\n",
            "Epoch 77/1000\n",
            "175/175 [==============================] - 7s 43ms/step - loss: 0.1299 - mse: 0.0280 - mae: 0.1299 - val_loss: 0.1261 - val_mse: 0.0266 - val_mae: 0.1261 - lr: 9.8010e-05\n",
            "Epoch 78/1000\n",
            "175/175 [==============================] - 7s 43ms/step - loss: 0.1299 - mse: 0.0279 - mae: 0.1299 - val_loss: 0.1244 - val_mse: 0.0267 - val_mae: 0.1244 - lr: 9.8010e-05\n",
            "Epoch 79/1000\n",
            "175/175 [==============================] - 7s 42ms/step - loss: 0.1302 - mse: 0.0281 - mae: 0.1302 - val_loss: 0.1247 - val_mse: 0.0264 - val_mae: 0.1247 - lr: 9.8010e-05\n",
            "Epoch 80/1000\n",
            "175/175 [==============================] - 8s 43ms/step - loss: 0.1304 - mse: 0.0282 - mae: 0.1304 - val_loss: 0.1245 - val_mse: 0.0265 - val_mae: 0.1245 - lr: 9.8010e-05\n",
            "Epoch 81/1000\n",
            "175/175 [==============================] - 8s 46ms/step - loss: 0.1292 - mse: 0.0278 - mae: 0.1292 - val_loss: 0.1241 - val_mse: 0.0265 - val_mae: 0.1241 - lr: 9.8010e-05\n",
            "Epoch 82/1000\n",
            "175/175 [==============================] - 8s 43ms/step - loss: 0.1304 - mse: 0.0281 - mae: 0.1304 - val_loss: 0.1245 - val_mse: 0.0267 - val_mae: 0.1245 - lr: 9.8010e-05\n",
            "Epoch 83/1000\n",
            "175/175 [==============================] - 7s 42ms/step - loss: 0.1311 - mse: 0.0284 - mae: 0.1311 - val_loss: 0.1241 - val_mse: 0.0266 - val_mae: 0.1241 - lr: 9.8010e-05\n",
            "Epoch 84/1000\n",
            "175/175 [==============================] - 8s 43ms/step - loss: 0.1298 - mse: 0.0280 - mae: 0.1298 - val_loss: 0.1247 - val_mse: 0.0268 - val_mae: 0.1247 - lr: 9.8010e-05\n",
            "Epoch 85/1000\n",
            "175/175 [==============================] - 8s 44ms/step - loss: 0.1308 - mse: 0.0284 - mae: 0.1308 - val_loss: 0.1240 - val_mse: 0.0267 - val_mae: 0.1240 - lr: 9.8010e-05\n",
            "Epoch 86/1000\n",
            "175/175 [==============================] - 7s 41ms/step - loss: 0.1301 - mse: 0.0281 - mae: 0.1301 - val_loss: 0.1245 - val_mse: 0.0266 - val_mae: 0.1245 - lr: 9.8010e-05\n",
            "Epoch 87/1000\n",
            "175/175 [==============================] - 7s 41ms/step - loss: 0.1307 - mse: 0.0283 - mae: 0.1307 - val_loss: 0.1250 - val_mse: 0.0263 - val_mae: 0.1250 - lr: 9.8010e-05\n",
            "Epoch 88/1000\n",
            "175/175 [==============================] - 8s 45ms/step - loss: 0.1301 - mse: 0.0280 - mae: 0.1301 - val_loss: 0.1240 - val_mse: 0.0267 - val_mae: 0.1240 - lr: 9.8010e-05\n",
            "Epoch 89/1000\n",
            "175/175 [==============================] - 7s 42ms/step - loss: 0.1290 - mse: 0.0277 - mae: 0.1290 - val_loss: 0.1245 - val_mse: 0.0265 - val_mae: 0.1245 - lr: 9.8010e-05\n",
            "Epoch 90/1000\n",
            "175/175 [==============================] - 7s 42ms/step - loss: 0.1296 - mse: 0.0280 - mae: 0.1296 - val_loss: 0.1242 - val_mse: 0.0269 - val_mae: 0.1242 - lr: 9.8010e-05\n",
            "Epoch 91/1000\n",
            "175/175 [==============================] - 8s 43ms/step - loss: 0.1302 - mse: 0.0281 - mae: 0.1302 - val_loss: 0.1241 - val_mse: 0.0266 - val_mae: 0.1241 - lr: 9.8010e-05\n",
            "Epoch 92/1000\n",
            "175/175 [==============================] - 8s 45ms/step - loss: 0.1308 - mse: 0.0283 - mae: 0.1308 - val_loss: 0.1240 - val_mse: 0.0263 - val_mae: 0.1240 - lr: 9.8010e-05\n",
            "Epoch 93/1000\n",
            "175/175 [==============================] - 8s 43ms/step - loss: 0.1303 - mse: 0.0282 - mae: 0.1303 - val_loss: 0.1242 - val_mse: 0.0264 - val_mae: 0.1242 - lr: 9.8010e-05\n",
            "Epoch 94/1000\n",
            "175/175 [==============================] - 7s 42ms/step - loss: 0.1295 - mse: 0.0279 - mae: 0.1295 - val_loss: 0.1245 - val_mse: 0.0265 - val_mae: 0.1245 - lr: 9.8010e-05\n",
            "Epoch 95/1000\n",
            "175/175 [==============================] - 7s 42ms/step - loss: 0.1293 - mse: 0.0278 - mae: 0.1293 - val_loss: 0.1242 - val_mse: 0.0265 - val_mae: 0.1242 - lr: 9.8010e-05\n",
            "Epoch 96/1000\n",
            "175/175 [==============================] - 8s 45ms/step - loss: 0.1299 - mse: 0.0280 - mae: 0.1299 - val_loss: 0.1248 - val_mse: 0.0265 - val_mae: 0.1248 - lr: 9.8010e-05\n",
            "Epoch 97/1000\n",
            "175/175 [==============================] - 8s 44ms/step - loss: 0.1299 - mse: 0.0280 - mae: 0.1299 - val_loss: 0.1241 - val_mse: 0.0266 - val_mae: 0.1241 - lr: 9.8010e-05\n",
            "Epoch 98/1000\n",
            "175/175 [==============================] - 7s 42ms/step - loss: 0.1294 - mse: 0.0279 - mae: 0.1294 - val_loss: 0.1244 - val_mse: 0.0265 - val_mae: 0.1244 - lr: 9.8010e-05\n",
            "Epoch 99/1000\n",
            "175/175 [==============================] - 8s 44ms/step - loss: 0.1301 - mse: 0.0281 - mae: 0.1301 - val_loss: 0.1238 - val_mse: 0.0266 - val_mae: 0.1238 - lr: 9.8010e-05\n",
            "Epoch 100/1000\n",
            "175/175 [==============================] - 8s 43ms/step - loss: 0.1294 - mse: 0.0278 - mae: 0.1294 - val_loss: 0.1243 - val_mse: 0.0265 - val_mae: 0.1243 - lr: 9.8010e-05\n",
            "Epoch 101/1000\n",
            "175/175 [==============================] - 7s 43ms/step - loss: 0.1303 - mse: 0.0281 - mae: 0.1303 - val_loss: 0.1247 - val_mse: 0.0265 - val_mae: 0.1247 - lr: 9.8010e-05\n",
            "Epoch 102/1000\n",
            "175/175 [==============================] - 7s 41ms/step - loss: 0.1300 - mse: 0.0281 - mae: 0.1300 - val_loss: 0.1239 - val_mse: 0.0266 - val_mae: 0.1239 - lr: 9.8010e-05\n",
            "Epoch 103/1000\n",
            "175/175 [==============================] - 8s 43ms/step - loss: 0.1304 - mse: 0.0282 - mae: 0.1304 - val_loss: 0.1245 - val_mse: 0.0265 - val_mae: 0.1245 - lr: 9.8010e-05\n",
            "Epoch 104/1000\n",
            "175/175 [==============================] - 8s 43ms/step - loss: 0.1298 - mse: 0.0280 - mae: 0.1298 - val_loss: 0.1251 - val_mse: 0.0265 - val_mae: 0.1251 - lr: 9.8010e-05\n",
            "Epoch 105/1000\n",
            "175/175 [==============================] - 8s 43ms/step - loss: 0.1304 - mse: 0.0283 - mae: 0.1304 - val_loss: 0.1239 - val_mse: 0.0265 - val_mae: 0.1239 - lr: 9.8010e-05\n",
            "Epoch 106/1000\n",
            "175/175 [==============================] - 7s 42ms/step - loss: 0.1303 - mse: 0.0282 - mae: 0.1303 - val_loss: 0.1253 - val_mse: 0.0263 - val_mae: 0.1253 - lr: 9.8010e-05\n",
            "Epoch 107/1000\n",
            "175/175 [==============================] - 8s 43ms/step - loss: 0.1296 - mse: 0.0279 - mae: 0.1296 - val_loss: 0.1239 - val_mse: 0.0264 - val_mae: 0.1239 - lr: 9.8010e-05\n",
            "Epoch 108/1000\n",
            "175/175 [==============================] - 8s 43ms/step - loss: 0.1300 - mse: 0.0280 - mae: 0.1300 - val_loss: 0.1239 - val_mse: 0.0265 - val_mae: 0.1239 - lr: 9.8010e-05\n",
            "Epoch 109/1000\n",
            "175/175 [==============================] - ETA: 0s - loss: 0.1294 - mse: 0.0279 - mae: 0.1294\n",
            "Epoch 109: ReduceLROnPlateau reducing learning rate to 9.702989402285311e-05.\n",
            "175/175 [==============================] - 8s 45ms/step - loss: 0.1294 - mse: 0.0279 - mae: 0.1294 - val_loss: 0.1264 - val_mse: 0.0264 - val_mae: 0.1264 - lr: 9.8010e-05\n",
            "Epoch 110/1000\n",
            "175/175 [==============================] - 7s 42ms/step - loss: 0.1296 - mse: 0.0279 - mae: 0.1296 - val_loss: 0.1266 - val_mse: 0.0266 - val_mae: 0.1266 - lr: 9.7030e-05\n",
            "Epoch 111/1000\n",
            "175/175 [==============================] - 8s 43ms/step - loss: 0.1300 - mse: 0.0280 - mae: 0.1300 - val_loss: 0.1249 - val_mse: 0.0263 - val_mae: 0.1249 - lr: 9.7030e-05\n",
            "Epoch 112/1000\n",
            "175/175 [==============================] - 8s 43ms/step - loss: 0.1303 - mse: 0.0281 - mae: 0.1303 - val_loss: 0.1243 - val_mse: 0.0263 - val_mae: 0.1243 - lr: 9.7030e-05\n",
            "Epoch 113/1000\n",
            "175/175 [==============================] - 8s 43ms/step - loss: 0.1299 - mse: 0.0280 - mae: 0.1299 - val_loss: 0.1240 - val_mse: 0.0262 - val_mae: 0.1240 - lr: 9.7030e-05\n",
            "Epoch 114/1000\n",
            "175/175 [==============================] - 7s 41ms/step - loss: 0.1296 - mse: 0.0279 - mae: 0.1296 - val_loss: 0.1244 - val_mse: 0.0264 - val_mae: 0.1244 - lr: 9.7030e-05\n",
            "Epoch 115/1000\n",
            "175/175 [==============================] - 7s 43ms/step - loss: 0.1296 - mse: 0.0279 - mae: 0.1296 - val_loss: 0.1245 - val_mse: 0.0271 - val_mae: 0.1245 - lr: 9.7030e-05\n",
            "Epoch 116/1000\n",
            "175/175 [==============================] - 8s 43ms/step - loss: 0.1298 - mse: 0.0280 - mae: 0.1298 - val_loss: 0.1242 - val_mse: 0.0263 - val_mae: 0.1242 - lr: 9.7030e-05\n",
            "Epoch 117/1000\n",
            "175/175 [==============================] - 8s 43ms/step - loss: 0.1295 - mse: 0.0279 - mae: 0.1295 - val_loss: 0.1240 - val_mse: 0.0267 - val_mae: 0.1240 - lr: 9.7030e-05\n",
            "Epoch 118/1000\n",
            "175/175 [==============================] - 8s 44ms/step - loss: 0.1293 - mse: 0.0278 - mae: 0.1293 - val_loss: 0.1237 - val_mse: 0.0262 - val_mae: 0.1237 - lr: 9.7030e-05\n",
            "Epoch 119/1000\n",
            "175/175 [==============================] - 7s 41ms/step - loss: 0.1307 - mse: 0.0283 - mae: 0.1307 - val_loss: 0.1238 - val_mse: 0.0266 - val_mae: 0.1238 - lr: 9.7030e-05\n",
            "Epoch 120/1000\n",
            "175/175 [==============================] - 7s 43ms/step - loss: 0.1304 - mse: 0.0282 - mae: 0.1304 - val_loss: 0.1239 - val_mse: 0.0263 - val_mae: 0.1239 - lr: 9.7030e-05\n",
            "Epoch 121/1000\n",
            "175/175 [==============================] - 8s 43ms/step - loss: 0.1295 - mse: 0.0279 - mae: 0.1295 - val_loss: 0.1241 - val_mse: 0.0264 - val_mae: 0.1241 - lr: 9.7030e-05\n",
            "Epoch 122/1000\n",
            "175/175 [==============================] - 7s 42ms/step - loss: 0.1295 - mse: 0.0279 - mae: 0.1295 - val_loss: 0.1253 - val_mse: 0.0265 - val_mae: 0.1253 - lr: 9.7030e-05\n",
            "Epoch 123/1000\n",
            "175/175 [==============================] - 8s 44ms/step - loss: 0.1295 - mse: 0.0279 - mae: 0.1295 - val_loss: 0.1245 - val_mse: 0.0263 - val_mae: 0.1245 - lr: 9.7030e-05\n",
            "Epoch 124/1000\n",
            "175/175 [==============================] - 8s 45ms/step - loss: 0.1298 - mse: 0.0280 - mae: 0.1298 - val_loss: 0.1236 - val_mse: 0.0265 - val_mae: 0.1236 - lr: 9.7030e-05\n",
            "Epoch 125/1000\n",
            "175/175 [==============================] - 8s 43ms/step - loss: 0.1298 - mse: 0.0280 - mae: 0.1298 - val_loss: 0.1240 - val_mse: 0.0263 - val_mae: 0.1240 - lr: 9.7030e-05\n",
            "Epoch 126/1000\n",
            "175/175 [==============================] - 7s 41ms/step - loss: 0.1302 - mse: 0.0281 - mae: 0.1302 - val_loss: 0.1246 - val_mse: 0.0264 - val_mae: 0.1246 - lr: 9.7030e-05\n",
            "Epoch 127/1000\n",
            "175/175 [==============================] - 7s 41ms/step - loss: 0.1293 - mse: 0.0278 - mae: 0.1293 - val_loss: 0.1239 - val_mse: 0.0263 - val_mae: 0.1239 - lr: 9.7030e-05\n",
            "Epoch 128/1000\n",
            "175/175 [==============================] - 8s 43ms/step - loss: 0.1293 - mse: 0.0278 - mae: 0.1293 - val_loss: 0.1245 - val_mse: 0.0263 - val_mae: 0.1245 - lr: 9.7030e-05\n",
            "Epoch 129/1000\n",
            "175/175 [==============================] - 8s 43ms/step - loss: 0.1300 - mse: 0.0280 - mae: 0.1300 - val_loss: 0.1247 - val_mse: 0.0261 - val_mae: 0.1247 - lr: 9.7030e-05\n",
            "Epoch 130/1000\n",
            " 21/175 [==>...........................] - ETA: 6s - loss: 0.1303 - mse: 0.0280 - mae: 0.1303"
          ]
        },
        {
          "output_type": "error",
          "ename": "KeyboardInterrupt",
          "evalue": "ignored",
          "traceback": [
            "\u001b[0;31m---------------------------------------------------------------------------\u001b[0m",
            "\u001b[0;31mKeyboardInterrupt\u001b[0m                         Traceback (most recent call last)",
            "\u001b[0;32m<ipython-input-13-36672cdfed4f>\u001b[0m in \u001b[0;36m<module>\u001b[0;34m()\u001b[0m\n\u001b[1;32m      1\u001b[0m \u001b[0mprint\u001b[0m\u001b[0;34m(\u001b[0m\u001b[0mmodel\u001b[0m\u001b[0;34m.\u001b[0m\u001b[0mconfig\u001b[0m\u001b[0;34m.\u001b[0m\u001b[0maxes\u001b[0m\u001b[0;34m)\u001b[0m\u001b[0;34m\u001b[0m\u001b[0;34m\u001b[0m\u001b[0m\n\u001b[0;32m----> 2\u001b[0;31m \u001b[0mhistory\u001b[0m \u001b[0;34m=\u001b[0m \u001b[0mmodel\u001b[0m\u001b[0;34m.\u001b[0m\u001b[0mtrain\u001b[0m\u001b[0;34m(\u001b[0m\u001b[0ma_training_data\u001b[0m\u001b[0;34m,\u001b[0m\u001b[0ma_training_data_labels\u001b[0m\u001b[0;34m,\u001b[0m \u001b[0mvalidation_data\u001b[0m\u001b[0;34m=\u001b[0m\u001b[0;34m(\u001b[0m\u001b[0ma_val_data\u001b[0m\u001b[0;34m[\u001b[0m\u001b[0;36m0\u001b[0m\u001b[0;34m:\u001b[0m\u001b[0;36m3\u001b[0m\u001b[0;34m]\u001b[0m\u001b[0;34m,\u001b[0m\u001b[0ma_val_data_labels\u001b[0m\u001b[0;34m[\u001b[0m\u001b[0;36m0\u001b[0m\u001b[0;34m:\u001b[0m\u001b[0;36m3\u001b[0m\u001b[0;34m]\u001b[0m\u001b[0;34m)\u001b[0m\u001b[0;34m)\u001b[0m\u001b[0;34m\u001b[0m\u001b[0;34m\u001b[0m\u001b[0m\n\u001b[0m",
            "\u001b[0;32m/usr/local/lib/python3.7/dist-packages/csbdeep/models/care_standard.py\u001b[0m in \u001b[0;36mtrain\u001b[0;34m(self, X, Y, validation_data, epochs, steps_per_epoch)\u001b[0m\n\u001b[1;32m    196\u001b[0m         history = fit(iter(training_data), validation_data=validation_data,\n\u001b[1;32m    197\u001b[0m                       \u001b[0mepochs\u001b[0m\u001b[0;34m=\u001b[0m\u001b[0mepochs\u001b[0m\u001b[0;34m,\u001b[0m \u001b[0msteps_per_epoch\u001b[0m\u001b[0;34m=\u001b[0m\u001b[0msteps_per_epoch\u001b[0m\u001b[0;34m,\u001b[0m\u001b[0;34m\u001b[0m\u001b[0;34m\u001b[0m\u001b[0m\n\u001b[0;32m--> 198\u001b[0;31m                       callbacks=self.callbacks, verbose=1)\n\u001b[0m\u001b[1;32m    199\u001b[0m         \u001b[0mself\u001b[0m\u001b[0;34m.\u001b[0m\u001b[0m_training_finished\u001b[0m\u001b[0;34m(\u001b[0m\u001b[0;34m)\u001b[0m\u001b[0;34m\u001b[0m\u001b[0;34m\u001b[0m\u001b[0m\n\u001b[1;32m    200\u001b[0m \u001b[0;34m\u001b[0m\u001b[0m\n",
            "\u001b[0;32m/usr/local/lib/python3.7/dist-packages/keras/utils/traceback_utils.py\u001b[0m in \u001b[0;36merror_handler\u001b[0;34m(*args, **kwargs)\u001b[0m\n\u001b[1;32m     62\u001b[0m     \u001b[0mfiltered_tb\u001b[0m \u001b[0;34m=\u001b[0m \u001b[0;32mNone\u001b[0m\u001b[0;34m\u001b[0m\u001b[0;34m\u001b[0m\u001b[0m\n\u001b[1;32m     63\u001b[0m     \u001b[0;32mtry\u001b[0m\u001b[0;34m:\u001b[0m\u001b[0;34m\u001b[0m\u001b[0;34m\u001b[0m\u001b[0m\n\u001b[0;32m---> 64\u001b[0;31m       \u001b[0;32mreturn\u001b[0m \u001b[0mfn\u001b[0m\u001b[0;34m(\u001b[0m\u001b[0;34m*\u001b[0m\u001b[0margs\u001b[0m\u001b[0;34m,\u001b[0m \u001b[0;34m**\u001b[0m\u001b[0mkwargs\u001b[0m\u001b[0;34m)\u001b[0m\u001b[0;34m\u001b[0m\u001b[0;34m\u001b[0m\u001b[0m\n\u001b[0m\u001b[1;32m     65\u001b[0m     \u001b[0;32mexcept\u001b[0m \u001b[0mException\u001b[0m \u001b[0;32mas\u001b[0m \u001b[0me\u001b[0m\u001b[0;34m:\u001b[0m  \u001b[0;31m# pylint: disable=broad-except\u001b[0m\u001b[0;34m\u001b[0m\u001b[0;34m\u001b[0m\u001b[0m\n\u001b[1;32m     66\u001b[0m       \u001b[0mfiltered_tb\u001b[0m \u001b[0;34m=\u001b[0m \u001b[0m_process_traceback_frames\u001b[0m\u001b[0;34m(\u001b[0m\u001b[0me\u001b[0m\u001b[0;34m.\u001b[0m\u001b[0m__traceback__\u001b[0m\u001b[0;34m)\u001b[0m\u001b[0;34m\u001b[0m\u001b[0;34m\u001b[0m\u001b[0m\n",
            "\u001b[0;32m/usr/local/lib/python3.7/dist-packages/keras/engine/training.py\u001b[0m in \u001b[0;36mfit\u001b[0;34m(self, x, y, batch_size, epochs, verbose, callbacks, validation_split, validation_data, shuffle, class_weight, sample_weight, initial_epoch, steps_per_epoch, validation_steps, validation_batch_size, validation_freq, max_queue_size, workers, use_multiprocessing)\u001b[0m\n\u001b[1;32m   1382\u001b[0m                 _r=1):\n\u001b[1;32m   1383\u001b[0m               \u001b[0mcallbacks\u001b[0m\u001b[0;34m.\u001b[0m\u001b[0mon_train_batch_begin\u001b[0m\u001b[0;34m(\u001b[0m\u001b[0mstep\u001b[0m\u001b[0;34m)\u001b[0m\u001b[0;34m\u001b[0m\u001b[0;34m\u001b[0m\u001b[0m\n\u001b[0;32m-> 1384\u001b[0;31m               \u001b[0mtmp_logs\u001b[0m \u001b[0;34m=\u001b[0m \u001b[0mself\u001b[0m\u001b[0;34m.\u001b[0m\u001b[0mtrain_function\u001b[0m\u001b[0;34m(\u001b[0m\u001b[0miterator\u001b[0m\u001b[0;34m)\u001b[0m\u001b[0;34m\u001b[0m\u001b[0;34m\u001b[0m\u001b[0m\n\u001b[0m\u001b[1;32m   1385\u001b[0m               \u001b[0;32mif\u001b[0m \u001b[0mdata_handler\u001b[0m\u001b[0;34m.\u001b[0m\u001b[0mshould_sync\u001b[0m\u001b[0;34m:\u001b[0m\u001b[0;34m\u001b[0m\u001b[0;34m\u001b[0m\u001b[0m\n\u001b[1;32m   1386\u001b[0m                 \u001b[0mcontext\u001b[0m\u001b[0;34m.\u001b[0m\u001b[0masync_wait\u001b[0m\u001b[0;34m(\u001b[0m\u001b[0;34m)\u001b[0m\u001b[0;34m\u001b[0m\u001b[0;34m\u001b[0m\u001b[0m\n",
            "\u001b[0;32m/usr/local/lib/python3.7/dist-packages/tensorflow/python/util/traceback_utils.py\u001b[0m in \u001b[0;36merror_handler\u001b[0;34m(*args, **kwargs)\u001b[0m\n\u001b[1;32m    148\u001b[0m     \u001b[0mfiltered_tb\u001b[0m \u001b[0;34m=\u001b[0m \u001b[0;32mNone\u001b[0m\u001b[0;34m\u001b[0m\u001b[0;34m\u001b[0m\u001b[0m\n\u001b[1;32m    149\u001b[0m     \u001b[0;32mtry\u001b[0m\u001b[0;34m:\u001b[0m\u001b[0;34m\u001b[0m\u001b[0;34m\u001b[0m\u001b[0m\n\u001b[0;32m--> 150\u001b[0;31m       \u001b[0;32mreturn\u001b[0m \u001b[0mfn\u001b[0m\u001b[0;34m(\u001b[0m\u001b[0;34m*\u001b[0m\u001b[0margs\u001b[0m\u001b[0;34m,\u001b[0m \u001b[0;34m**\u001b[0m\u001b[0mkwargs\u001b[0m\u001b[0;34m)\u001b[0m\u001b[0;34m\u001b[0m\u001b[0;34m\u001b[0m\u001b[0m\n\u001b[0m\u001b[1;32m    151\u001b[0m     \u001b[0;32mexcept\u001b[0m \u001b[0mException\u001b[0m \u001b[0;32mas\u001b[0m \u001b[0me\u001b[0m\u001b[0;34m:\u001b[0m\u001b[0;34m\u001b[0m\u001b[0;34m\u001b[0m\u001b[0m\n\u001b[1;32m    152\u001b[0m       \u001b[0mfiltered_tb\u001b[0m \u001b[0;34m=\u001b[0m \u001b[0m_process_traceback_frames\u001b[0m\u001b[0;34m(\u001b[0m\u001b[0me\u001b[0m\u001b[0;34m.\u001b[0m\u001b[0m__traceback__\u001b[0m\u001b[0;34m)\u001b[0m\u001b[0;34m\u001b[0m\u001b[0;34m\u001b[0m\u001b[0m\n",
            "\u001b[0;32m/usr/local/lib/python3.7/dist-packages/tensorflow/python/eager/def_function.py\u001b[0m in \u001b[0;36m__call__\u001b[0;34m(self, *args, **kwds)\u001b[0m\n\u001b[1;32m    913\u001b[0m \u001b[0;34m\u001b[0m\u001b[0m\n\u001b[1;32m    914\u001b[0m       \u001b[0;32mwith\u001b[0m \u001b[0mOptionalXlaContext\u001b[0m\u001b[0;34m(\u001b[0m\u001b[0mself\u001b[0m\u001b[0;34m.\u001b[0m\u001b[0m_jit_compile\u001b[0m\u001b[0;34m)\u001b[0m\u001b[0;34m:\u001b[0m\u001b[0;34m\u001b[0m\u001b[0;34m\u001b[0m\u001b[0m\n\u001b[0;32m--> 915\u001b[0;31m         \u001b[0mresult\u001b[0m \u001b[0;34m=\u001b[0m \u001b[0mself\u001b[0m\u001b[0;34m.\u001b[0m\u001b[0m_call\u001b[0m\u001b[0;34m(\u001b[0m\u001b[0;34m*\u001b[0m\u001b[0margs\u001b[0m\u001b[0;34m,\u001b[0m \u001b[0;34m**\u001b[0m\u001b[0mkwds\u001b[0m\u001b[0;34m)\u001b[0m\u001b[0;34m\u001b[0m\u001b[0;34m\u001b[0m\u001b[0m\n\u001b[0m\u001b[1;32m    916\u001b[0m \u001b[0;34m\u001b[0m\u001b[0m\n\u001b[1;32m    917\u001b[0m       \u001b[0mnew_tracing_count\u001b[0m \u001b[0;34m=\u001b[0m \u001b[0mself\u001b[0m\u001b[0;34m.\u001b[0m\u001b[0mexperimental_get_tracing_count\u001b[0m\u001b[0;34m(\u001b[0m\u001b[0;34m)\u001b[0m\u001b[0;34m\u001b[0m\u001b[0;34m\u001b[0m\u001b[0m\n",
            "\u001b[0;32m/usr/local/lib/python3.7/dist-packages/tensorflow/python/eager/def_function.py\u001b[0m in \u001b[0;36m_call\u001b[0;34m(self, *args, **kwds)\u001b[0m\n\u001b[1;32m    945\u001b[0m       \u001b[0;31m# In this case we have created variables on the first call, so we run the\u001b[0m\u001b[0;34m\u001b[0m\u001b[0;34m\u001b[0m\u001b[0;34m\u001b[0m\u001b[0m\n\u001b[1;32m    946\u001b[0m       \u001b[0;31m# defunned version which is guaranteed to never create variables.\u001b[0m\u001b[0;34m\u001b[0m\u001b[0;34m\u001b[0m\u001b[0;34m\u001b[0m\u001b[0m\n\u001b[0;32m--> 947\u001b[0;31m       \u001b[0;32mreturn\u001b[0m \u001b[0mself\u001b[0m\u001b[0;34m.\u001b[0m\u001b[0m_stateless_fn\u001b[0m\u001b[0;34m(\u001b[0m\u001b[0;34m*\u001b[0m\u001b[0margs\u001b[0m\u001b[0;34m,\u001b[0m \u001b[0;34m**\u001b[0m\u001b[0mkwds\u001b[0m\u001b[0;34m)\u001b[0m  \u001b[0;31m# pylint: disable=not-callable\u001b[0m\u001b[0;34m\u001b[0m\u001b[0;34m\u001b[0m\u001b[0m\n\u001b[0m\u001b[1;32m    948\u001b[0m     \u001b[0;32melif\u001b[0m \u001b[0mself\u001b[0m\u001b[0;34m.\u001b[0m\u001b[0m_stateful_fn\u001b[0m \u001b[0;32mis\u001b[0m \u001b[0;32mnot\u001b[0m \u001b[0;32mNone\u001b[0m\u001b[0;34m:\u001b[0m\u001b[0;34m\u001b[0m\u001b[0;34m\u001b[0m\u001b[0m\n\u001b[1;32m    949\u001b[0m       \u001b[0;31m# Release the lock early so that multiple threads can perform the call\u001b[0m\u001b[0;34m\u001b[0m\u001b[0;34m\u001b[0m\u001b[0;34m\u001b[0m\u001b[0m\n",
            "\u001b[0;32m/usr/local/lib/python3.7/dist-packages/tensorflow/python/eager/function.py\u001b[0m in \u001b[0;36m__call__\u001b[0;34m(self, *args, **kwargs)\u001b[0m\n\u001b[1;32m   2955\u001b[0m        filtered_flat_args) = self._maybe_define_function(args, kwargs)\n\u001b[1;32m   2956\u001b[0m     return graph_function._call_flat(\n\u001b[0;32m-> 2957\u001b[0;31m         filtered_flat_args, captured_inputs=graph_function.captured_inputs)  # pylint: disable=protected-access\n\u001b[0m\u001b[1;32m   2958\u001b[0m \u001b[0;34m\u001b[0m\u001b[0m\n\u001b[1;32m   2959\u001b[0m   \u001b[0;34m@\u001b[0m\u001b[0mproperty\u001b[0m\u001b[0;34m\u001b[0m\u001b[0;34m\u001b[0m\u001b[0m\n",
            "\u001b[0;32m/usr/local/lib/python3.7/dist-packages/tensorflow/python/eager/function.py\u001b[0m in \u001b[0;36m_call_flat\u001b[0;34m(self, args, captured_inputs, cancellation_manager)\u001b[0m\n\u001b[1;32m   1852\u001b[0m       \u001b[0;31m# No tape is watching; skip to running the function.\u001b[0m\u001b[0;34m\u001b[0m\u001b[0;34m\u001b[0m\u001b[0;34m\u001b[0m\u001b[0m\n\u001b[1;32m   1853\u001b[0m       return self._build_call_outputs(self._inference_function.call(\n\u001b[0;32m-> 1854\u001b[0;31m           ctx, args, cancellation_manager=cancellation_manager))\n\u001b[0m\u001b[1;32m   1855\u001b[0m     forward_backward = self._select_forward_and_backward_functions(\n\u001b[1;32m   1856\u001b[0m         \u001b[0margs\u001b[0m\u001b[0;34m,\u001b[0m\u001b[0;34m\u001b[0m\u001b[0;34m\u001b[0m\u001b[0m\n",
            "\u001b[0;32m/usr/local/lib/python3.7/dist-packages/tensorflow/python/eager/function.py\u001b[0m in \u001b[0;36mcall\u001b[0;34m(self, ctx, args, cancellation_manager)\u001b[0m\n\u001b[1;32m    502\u001b[0m               \u001b[0minputs\u001b[0m\u001b[0;34m=\u001b[0m\u001b[0margs\u001b[0m\u001b[0;34m,\u001b[0m\u001b[0;34m\u001b[0m\u001b[0;34m\u001b[0m\u001b[0m\n\u001b[1;32m    503\u001b[0m               \u001b[0mattrs\u001b[0m\u001b[0;34m=\u001b[0m\u001b[0mattrs\u001b[0m\u001b[0;34m,\u001b[0m\u001b[0;34m\u001b[0m\u001b[0;34m\u001b[0m\u001b[0m\n\u001b[0;32m--> 504\u001b[0;31m               ctx=ctx)\n\u001b[0m\u001b[1;32m    505\u001b[0m         \u001b[0;32melse\u001b[0m\u001b[0;34m:\u001b[0m\u001b[0;34m\u001b[0m\u001b[0;34m\u001b[0m\u001b[0m\n\u001b[1;32m    506\u001b[0m           outputs = execute.execute_with_cancellation(\n",
            "\u001b[0;32m/usr/local/lib/python3.7/dist-packages/tensorflow/python/eager/execute.py\u001b[0m in \u001b[0;36mquick_execute\u001b[0;34m(op_name, num_outputs, inputs, attrs, ctx, name)\u001b[0m\n\u001b[1;32m     53\u001b[0m     \u001b[0mctx\u001b[0m\u001b[0;34m.\u001b[0m\u001b[0mensure_initialized\u001b[0m\u001b[0;34m(\u001b[0m\u001b[0;34m)\u001b[0m\u001b[0;34m\u001b[0m\u001b[0;34m\u001b[0m\u001b[0m\n\u001b[1;32m     54\u001b[0m     tensors = pywrap_tfe.TFE_Py_Execute(ctx._handle, device_name, op_name,\n\u001b[0;32m---> 55\u001b[0;31m                                         inputs, attrs, num_outputs)\n\u001b[0m\u001b[1;32m     56\u001b[0m   \u001b[0;32mexcept\u001b[0m \u001b[0mcore\u001b[0m\u001b[0;34m.\u001b[0m\u001b[0m_NotOkStatusException\u001b[0m \u001b[0;32mas\u001b[0m \u001b[0me\u001b[0m\u001b[0;34m:\u001b[0m\u001b[0;34m\u001b[0m\u001b[0;34m\u001b[0m\u001b[0m\n\u001b[1;32m     57\u001b[0m     \u001b[0;32mif\u001b[0m \u001b[0mname\u001b[0m \u001b[0;32mis\u001b[0m \u001b[0;32mnot\u001b[0m \u001b[0;32mNone\u001b[0m\u001b[0;34m:\u001b[0m\u001b[0;34m\u001b[0m\u001b[0;34m\u001b[0m\u001b[0m\n",
            "\u001b[0;31mKeyboardInterrupt\u001b[0m: "
          ]
        }
      ],
      "source": [
        "print(model.config.axes)\n",
        "history = model.train(a_training_data,a_training_data_labels, validation_data=(a_val_data[0:3],a_val_data_labels[0:3]))"
      ]
    },
    {
      "cell_type": "code",
      "source": [
        "model.save_weights('trained_weight.h5')"
      ],
      "metadata": {
        "id": "5tB-0CJXRnI6"
      },
      "execution_count": null,
      "outputs": []
    },
    {
      "cell_type": "code",
      "execution_count": null,
      "metadata": {
        "id": "Zsw3FPZFsZWN"
      },
      "outputs": [],
      "source": [
        "from datetime import datetime\n",
        "now = datetime.now() # current date and time\n",
        "date_time = now.strftime(\"%m-%d-%Y_%H-%M-%S\")\n",
        "plt.figure(1)\n",
        "plt.plot(history.history['loss'], label='loss')\n",
        "plt.plot(history.history['val_loss'], label = 'val_loss')\n",
        "plt.xlabel('Epoch')\n",
        "plt.ylabel('loss')\n",
        "#plt.ylim([0.01, 0.025])\n",
        "plt.legend(loc='upper right')\n",
        "plt.savefig('modelCAREstd_loss.png')\n",
        "plt.figure(2)\n",
        "plt.plot(history.history['mse'], label='mse')\n",
        "plt.plot(history.history['val_mse'], label = 'val_mse')\n",
        "plt.xlabel('Epoch')\n",
        "plt.ylabel('accuracy')\n",
        "#plt.ylim([0.05, 0.11])\n",
        "plt.legend(loc='upper right')\n",
        "plt.figure(2)\n",
        "plt.plot(history.history['mae'], label='mae')\n",
        "plt.plot(history.history['val_mae'], label = 'val_mae')\n",
        "plt.xlabel('Epoch')\n",
        "plt.ylabel('accuracy')\n",
        "#plt.ylim([0.05, 0.11])\n",
        "plt.legend(loc='upper right')"
      ]
    },
    {
      "cell_type": "code",
      "execution_count": null,
      "metadata": {
        "id": "yaJ6t7yxui_O"
      },
      "outputs": [],
      "source": [
        "predictions = model.keras_model.predict(a_training_data[0:3])"
      ]
    },
    {
      "cell_type": "code",
      "execution_count": null,
      "metadata": {
        "id": "Ultdo1L_uaLb"
      },
      "outputs": [],
      "source": [
        "def revert_img(img, patch_shape, slide):\n",
        "  # reverts original image and removes overlaps by splitting overlap over 2 images\n",
        "  step = int(patch_shape-slide)\n",
        "  reconstructed_arr = np.zeros((1024,1024))\n",
        "  for x in range(img.shape[0]):\n",
        "    for y in range(img.shape[1]):\n",
        "      start_x = int(slide/2)\n",
        "      start_y = int(slide/2)\n",
        "      end_x = 0\n",
        "      end_y = 0\n",
        "      if x == 0:\n",
        "        start_x = 0\n",
        "        end_x = int(slide/2)\n",
        "      if y == 0:\n",
        "        start_y = 0\n",
        "        end_y = int(slide/2)\n",
        "      if x == img.shape[0]-1: end_x = int(slide/2)\n",
        "      if y == img.shape[1]-1: end_y = int(slide/2)\n",
        "      x_pos, y_pos = x * step + start_x, y * step + start_y\n",
        "      reconstructed_arr[x_pos : x_pos + step + end_x, y_pos : y_pos + step + end_y] = img[x, y, start_x:start_x+step+end_x, start_y:start_y+step+end_y]\n",
        "  return reconstructed_arr\n",
        "\n",
        "def merge_patches(img, patch_shape, slide):\n",
        "  #  merging patches, img is a 3D array of stacked patches\n",
        "  row_len = int(math.sqrt(img.shape[0]))\n",
        "  patches = np.zeros((row_len,row_len,patch_shape,patch_shape))\n",
        "  print(img.shape)\n",
        "  print(patches.shape)\n",
        "  for r in range(row_len):\n",
        "      patches[r,:,:,:] = img[r*row_len:r*row_len+row_len,:,:]\n",
        "  # plt.figure(5)\n",
        "  # plt.imshow(patches[1,1,:,:])\n",
        "  return revert_img(patches,patch_shape, slide)\n",
        "# # comparing one processed and preprocessed image\n",
        "def MSE(img1, img2):\n",
        "        squared_diff = (img1 -img2) ** 2\n",
        "        summed = np.sum(squared_diff)\n",
        "        num_pix = img1.shape[0] * img1.shape[1] #img1 and 2 should have same shape\n",
        "        err = summed / num_pix\n",
        "        return err\n",
        "# original = merge_patches(test_data[0:25,:,:], 256, 64)\n",
        "# label = merge_patches(test_data_labels[0:25,:,:], 256, 64)\n",
        "# pred = merge_patches(predictions[0:25,:,:], 256, 64)\n",
        "plt.figure(figsize = (10,10))\n",
        "plt.hist(predictions[0,:,:,0]);\n",
        "plt.title(\"prediction\")\n",
        "plt.figure(figsize = (10,10))\n",
        "plt.hist(a_training_data[0,:,:,0]);\n",
        "plt.title(\"a_training_data\")\n",
        "plt.figure(figsize = (10,10))\n",
        "plt.hist(a_training_data_labels[0,:,:,0]);\n",
        "plt.title(\"a_training_data_labels\")\n",
        "# plt.figure(figsize = (10,10))\n",
        "# plt.hist(pred-original);\n",
        "\n",
        "print(\"avg original\", predictions[0,:,:,0].mean())\n",
        "print(\"avg pred\", a_training_data[0,:,:,0].mean())\n",
        "print(\"avg label\",a_training_data_labels[0,:,:,0].mean())\n",
        "# print(\"avg diff\", (pred-label).mean())\n",
        "# print(\"MSE\", MSE(pred,label))"
      ]
    }
  ],
  "metadata": {
    "accelerator": "GPU",
    "colab": {
      "machine_shape": "hm",
      "provenance": []
    },
    "gpuClass": "standard",
    "kernelspec": {
      "display_name": "Python 3",
      "name": "python3"
    },
    "language_info": {
      "name": "python"
    }
  },
  "nbformat": 4,
  "nbformat_minor": 0
}