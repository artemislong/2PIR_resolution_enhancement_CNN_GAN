{
  "cells": [
    {
      "cell_type": "markdown",
      "metadata": {
        "id": "_knrNHXGl91k"
      },
      "source": [
        "Preprocessing images into PATCH_SIZE patches with OVERLAP.\n",
        "Saving into npz file containing train,val, test images.\n",
        "\n",
        "Last updated: 07.06\n",
        "\n",
        "Change: patch size 256, only taking first 11 depths to standardize input.\n",
        "\n",
        "\n"
      ]
    },
    {
      "cell_type": "code",
      "execution_count": null,
      "metadata": {
        "id": "jCz6M7fo1Bdm"
      },
      "outputs": [],
      "source": [
        "# !pip install tifffile\n",
        "# !pip install sklearn\n",
        "# !pip install scikit-image"
      ]
    },
    {
      "cell_type": "code",
      "execution_count": null,
      "metadata": {
        "id": "i0znPRdBWGba"
      },
      "outputs": [],
      "source": [
        "# Constant values\n",
        "IMG_SIZE = 512\n",
        "OVERLAP = 0\n",
        "PATCH_SIZE = 512\n",
        "TYPES = ['NADH'] # up to 3 types: NADH, FAD, SDG\n",
        "MAIN_PATH = r\"/content/drive/MyDrive/Research and Grad/Diamond Program/objective_transfer\"\n",
        "NPZ_VER = \"_3depths_3D\" # version of data split"
      ]
    },
    {
      "cell_type": "code",
      "execution_count": null,
      "metadata": {
        "id": "DMUT7spjl35_"
      },
      "outputs": [],
      "source": [
        "# importing dependencies\n",
        "import IPython.display as ipd\n",
        "import numpy as np\n",
        "import sklearn\n",
        "import sklearn.model_selection\n",
        "import skimage\n",
        "import math\n",
        "import numpy as np\n",
        "from sklearn import preprocessing\n",
        "import psutil\n",
        "import tensorflow as tf\n",
        "import matplotlib.pyplot as plt\n",
        "import scipy.io as sio\n",
        "import os\n",
        "import time"
      ]
    },
    {
      "cell_type": "code",
      "source": [
        "# Open drive dynamically; prefer drives that have 'drive' in their name.\n",
        "MAIN_DIR= r\"/content/drive/MyDrive/Research and Grad/Diamond Program/objective_transfer/deep_learning\"\n",
        "from google.colab import drive\n",
        "drive.mount('/content/drive')\n",
        "os.chdir(MAIN_DIR+'/CAREstd/')"
      ],
      "metadata": {
        "colab": {
          "base_uri": "https://localhost:8080/"
        },
        "id": "4EH84DcbLbtZ",
        "outputId": "dcfaa7e1-930e-4201-becb-77483694cb05"
      },
      "execution_count": null,
      "outputs": [
        {
          "output_type": "stream",
          "name": "stdout",
          "text": [
            "Drive already mounted at /content/drive; to attempt to forcibly remount, call drive.mount(\"/content/drive\", force_remount=True).\n"
          ]
        }
      ]
    },
    {
      "cell_type": "code",
      "execution_count": null,
      "metadata": {
        "id": "Dm9i9E7B_hTq"
      },
      "outputs": [],
      "source": [
        "def SoundNotification():\n",
        "    global sound\n",
        "    sr = 22050 # sample rate\n",
        "    T = 0.5    # seconds\n",
        "    t = np.linspace(0, T, int(T*sr), endpoint=False) # time variable\n",
        "    x = 0.5*np.sin(2*np.pi*440*t)              # pure sine wave at 440 Hz\n",
        "    sound = ipd.Audio(x, rate=sr, autoplay=True) # load a NumPy array\n",
        "\n",
        "    return sound\n",
        "\n",
        "def WhereIWantToUseTheSound():\n",
        "    sound = SoundNotification()\n",
        "    return sound"
      ]
    },
    {
      "cell_type": "code",
      "execution_count": null,
      "metadata": {
        "id": "PDm7CwKP5lHg"
      },
      "outputs": [],
      "source": [
        "from functools import wraps\n",
        "import time\n",
        "\n",
        "\n",
        "def timeit(func):\n",
        "    @wraps(func)\n",
        "    def timeit_wrapper(*args, **kwargs):\n",
        "        start_time = time.perf_counter()\n",
        "        result = func(*args, **kwargs)\n",
        "        end_time = time.perf_counter()\n",
        "        total_time = end_time - start_time\n",
        "        print(f'Function {func.__name__}{args} {kwargs} Took {total_time:.4f} seconds')\n",
        "        return result\n",
        "    return timeit_wrapper"
      ]
    },
    {
      "cell_type": "code",
      "execution_count": null,
      "metadata": {
        "id": "P7w2v2D5Gsxz"
      },
      "outputs": [],
      "source": [
        "from PIL import Image\n",
        "import matplotlib.pyplot as plt\n",
        "\n",
        "def create_patches(img, patch_shape, slide):\n",
        "  # returns stack of patches and number of patches\n",
        "  patch_img = skimage.util.view_as_windows(img, (patch_shape,patch_shape), step=patch_shape-slide)\n",
        "  # # stacking patches\n",
        "  # patch = np.zeros((patch_img.shape[0]*patch_img.shape[1],patch_shape,patch_shape))\n",
        "  # # creating 3D array by stacking patches by rows\n",
        "  # for row in range(patch_img.shape[0]):\n",
        "  #     start = row*patch_img.shape[1]\n",
        "  #     end = row*patch_img.shape[1]+patch_img.shape[1]\n",
        "  #     patch[row*patch_img.shape[1]:row*patch_img.shape[1]+patch_img.shape[1],:,:] = patch_img[row, :, :,:]\n",
        "  patch = patch_img.reshape(patch_img.shape[0]*patch_img.shape[1],patch_shape,patch_shape) # more time efficient\n",
        "  return patch\n",
        "\n",
        "def merge_patches(img, patch_shape, slide):\n",
        "  #  merging patches\n",
        "  row_len = int(math.sqrt(img.shape[0]))\n",
        "  patches = np.zeros((row_len,row_len,patch_shape,patch_shape))\n",
        "  print(patches.shape)\n",
        "  for r in range(row_len):\n",
        "      patches[r,:,:,:] = img[r*row_len:r*row_len+row_len,:,:]\n",
        "  plt.figure(5)\n",
        "  plt.imshow(patches[1,1,:,:])\n",
        "  return revert_img(patches,patch_shape, slide)\n",
        "\n",
        "def revert_img(img, patch_shape, slide):\n",
        "  # reverts original image and removes overlaps by splitting overlap over 2 images\n",
        "  step = int(patch_shape-slide)\n",
        "  reconstructed_arr = np.zeros((1024,1024))\n",
        "  for x in range(img.shape[0]):\n",
        "    for y in range(img.shape[1]):\n",
        "      start_x = int(slide/2)\n",
        "      start_y = int(slide/2)\n",
        "      end_x = 0\n",
        "      end_y = 0\n",
        "      if x == 0:\n",
        "        start_x = 0\n",
        "        end_x = int(slide/2)\n",
        "      if y == 0:\n",
        "        start_y = 0\n",
        "        end_y = int(slide/2)\n",
        "      if x == img.shape[0]-1: end_x = int(slide/2)\n",
        "      if y == img.shape[1]-1: end_y = int(slide/2)\n",
        "      x_pos, y_pos = x * step + start_x, y * step + start_y\n",
        "      print(x, y, )\n",
        "      reconstructed_arr[x_pos : x_pos + step + end_x, y_pos : y_pos + step + end_y] = img[x, y, start_x:start_x+step+end_x, start_y:start_y+step+end_y]\n",
        "  return reconstructed_arr\n",
        "\n",
        "def normalize(img):\n",
        "  # Normalizing images between 0 and 1\n",
        "  # img = img - img.min()\n",
        "  # img = np.divide(img, img.max())\n",
        "  # Normalizing images between 0 and 1 and preserving distribution\n",
        "  img_norm = (img - np.amin(img))/( np.amax(img)- np.amin(img))\n",
        "  return img_norm\n",
        "\n",
        "def normalize_percentile(img, pmin=1, pmax=99.9, clip = False):\n",
        "  eps=1e-20 # avoid zero division\n",
        "  mi = np.percentile(img,pmin,axis=None,keepdims=True)\n",
        "  # mi = np.amin(img)\n",
        "  # print(\"mi\",mi)\n",
        "  ma = np.percentile(img,pmax,axis=None,keepdims=True)\n",
        "  if clip == True: return np.clip((img - mi) / ( ma - mi + eps ), 0, 1)\n",
        "  return (img - mi) / ( ma - mi + eps )\n",
        "\n",
        "def concatenate(A,B):\n",
        "  return np.concatenate((A,B)) if len(A)>0 else B"
      ]
    },
    {
      "cell_type": "code",
      "execution_count": null,
      "metadata": {
        "id": "Z0OnczI4l38H"
      },
      "outputs": [],
      "source": [
        "# PREPROCESSING\n",
        "# normalizing, splitting into patches, and then returning data, label arrays\n",
        "def preprocess(ddict, patch_size, patch_overlap, types=['NADH'], process=\"up\"):\n",
        "  len_to_allocate = 0\n",
        "  # getting number of input images\n",
        "  for key in types:\n",
        "    len_to_allocate = np.array(ddict['25X'][key]).shape[0]\n",
        "  len_to_allocate = int(len_to_allocate*((patch_overlap-IMG_SIZE) / (patch_overlap-patch_size))**2)\n",
        "  data = np.empty((len_to_allocate,patch_size,patch_size))\n",
        "  labels = np.empty((len_to_allocate,patch_size,patch_size))\n",
        "  count = 0\n",
        "  for key in types:\n",
        "    num_depths = np.asarray(ddict['25X'][key]).shape[0] # number of images/depths\n",
        "    # for every 2D image/every depth\n",
        "    for i in range(num_depths):\n",
        "        # print(\"i: \",i)\n",
        "        # Generating image patches with overlaps with chosen patch sizes and normalize\n",
        "        # if not patchifying, img size == patch size\n",
        "        if patch_size == IMG_SIZE:\n",
        "          A = normalize_percentile(ddict['25X'][key][i, :, :])\n",
        "          B = normalize_percentile(ddict['40X'][key][i, :, :])\n",
        "        else:\n",
        "          A = create_patches(normalize_percentile(ddict['25X'][key][i, :, :]), patch_size, patch_overlap)\n",
        "          B = create_patches(normalize_percentile(ddict['40X'][key][i, :, :]), patch_size, patch_overlap)\n",
        "        # appending, depending whether we are upscaling or downscaling\n",
        "        if process==\"down\":\n",
        "          C = A\n",
        "          A = B\n",
        "          B = C\n",
        "        data[count:count+len(A),:,:] = A[:,:,:]\n",
        "        del A # save memory\n",
        "        labels[count:count+len(B),:,:] = B[:,:,:]\n",
        "        count = count + len(B)\n",
        "  return [data, labels]\n",
        "\n",
        "def preprocess_stack(ddict,stack_name, patch_size, patch_overlap, types=['NADH'], process=\"up\"):\n",
        "  len_to_allocate = 0\n",
        "  # getting number of input images\n",
        "  for key in types:\n",
        "    len_to_allocate += np.array(ddict['25X'][key][stack_name]).shape[2]\n",
        "  len_to_allocate = int(len_to_allocate*((patch_overlap-IMG_SIZE) / (patch_overlap-patch_size))**2)\n",
        "  data = np.empty((len_to_allocate,patch_size,patch_size))\n",
        "  labels = np.empty((len_to_allocate,patch_size,patch_size))\n",
        "  count = 0\n",
        "  print(\"shape of data\", np.shape(data))\n",
        "  for key in types:\n",
        "    # for every 2D image/every depth\n",
        "    for i in range(np.array(ddict['25X'][key][stack_name]).shape[2]-1):\n",
        "        # print(\"i: \",i)\n",
        "        # Generating image patches with overlaps with chosen patch sizes and normalize\n",
        "        A = create_patches(normalize_percentile(ddict['25X'][key][stack_name][:, :, i], 1, 99.9, clip=True), patch_size, patch_overlap)\n",
        "        B = create_patches(normalize_percentile(ddict['40X'][key][stack_name][:, :, i], 1, 99.9, clip=True), patch_size, patch_overlap)\n",
        "        # appending, depending whether we are upscaling or downscaling\n",
        "        if process==\"down\":\n",
        "          C = A\n",
        "          A = B\n",
        "          B = C\n",
        "        data[count:count+len(A),:,:] = A[:,:,:]\n",
        "        del A # save memory\n",
        "        labels[count:count+len(B),:,:] = B[:,:,:]\n",
        "        count = count + len(B)\n",
        "  return [data, labels]\n",
        "\n",
        "def preprocess3D(ddict,stack_name, patch_size, patch_overlap, types=['NADH'], process=\"up\"):\n",
        "   # generating 4D arrays of patches over depths with the shape [patches, patch size, patch size, depths]\n",
        "    depths = NUM_OF_DEPTHS\n",
        "    len_to_allocate = int(((patch_overlap-IMG_SIZE) / (patch_overlap-patch_size))**2)\n",
        "    data = np.empty((len_to_allocate,patch_size,patch_size,depths-1))\n",
        "    labels = np.empty((len_to_allocate,patch_size,patch_size,depths-1))\n",
        "    for key in types:\n",
        "      # for every 2D image/every depth\n",
        "      for i in range(depths-1):\n",
        "          # print(\"min(depths)-1: \",min(depths)-1, \" shape: \", np.shape(ddict['25X'][key][stack_name][:, :, i]))\n",
        "          # Generating image patches with overlaps with chosen patch sizes and normalize\n",
        "          A = create_patches(normalize_percentile(ddict['25X'][key][stack_name][:, :, i]), patch_size, patch_overlap)\n",
        "          B = create_patches(normalize_percentile(ddict['40X'][key][stack_name][:, :, i]), patch_size, patch_overlap)\n",
        "          # appending, depending whether we are upscaling or downscaling\n",
        "          if process==\"down\":\n",
        "            C = A\n",
        "            A = B\n",
        "            B = C\n",
        "          data[:,:,:,i] = A[:,:,:]\n",
        "          del A # save memory\n",
        "          labels[:,:,:,i] = B[:,:,:]\n",
        "    return [data, labels]\n",
        "\n",
        "def preprocess3D_fullsize_3_depths(ddict,stack_name, types='NADH', process=\"up\"):\n",
        "    # loading and normalizing stacks of train and label data, no 2D patchifying\n",
        "    # return array of 3D stacks of 3 consecutive depths\n",
        "    shape = np.shape(ddict['25X'][types][stack_name])\n",
        "    print(\"Stack shape: \", shape,stack_name)\n",
        "    depths = shape[-1]\n",
        "    data = []\n",
        "    labels = []\n",
        "    # we will ignore first depth, start at 2nd depth and create 3D stack of previous,current, and next depth\n",
        "    for i in range(1,depths-1):\n",
        "      # creating 3depth stack\n",
        "      A = ddict['25X'][types][stack_name][:, :, i-1:i+2]\n",
        "      B = ddict['40X'][types][stack_name][:, :, i-1:i+2]\n",
        "      # normalizing each depth 0 to 1\n",
        "      for j in range(3):\n",
        "        A[:,:,j] = normalize_percentile(A[:,:,j])\n",
        "        B[:,:,j] = normalize_percentile(B[:,:,j])\n",
        "      # appending, depending whether we are upscaling or downscaling\n",
        "      if process==\"down\":\n",
        "        C = A\n",
        "        A = B\n",
        "        B = C\n",
        "      data = [A] if len(data) == 0 else np.concatenate((data,[A]))\n",
        "      labels = [B] if len(labels) == 0 else np.concatenate((labels,[B]))\n",
        "    print(\"SHAPE DATA: \", np.shape(data),stack_name)\n",
        "    return [data, labels]"
      ]
    },
    {
      "cell_type": "code",
      "execution_count": null,
      "metadata": {
        "colab": {
          "base_uri": "https://localhost:8080/"
        },
        "id": "amOXPFaOl38G",
        "outputId": "23f3178d-b008-42b7-a7b4-bcb592635bec"
      },
      "outputs": [
        {
          "output_type": "stream",
          "name": "stdout",
          "text": [
            "['20210420_ROI2_512_shifted.mat', '20210420_ROI3_512_shifted.mat', '20210421_ROI4_512_shifted.mat', '20210421_ROI5_512_shifted.mat', '20210426_ROI1_512_shifted.mat', '20210426_ROI2_512_shifted.mat', '20210426_ROI3_512_shifted.mat', '20210426_ROI4_512_shifted.mat', '20210505_ROI1_512_shifted.mat', '20210505_ROI2_512_shifted.mat', '20210505_ROI3_512_shifted.mat', '20210505_ROI4_512_shifted.mat', '20210526_ROI3_512_shifted.mat', '20210615_ROI1_512_shifted.mat', '20210622_ROI4_512_shifted.mat']\n",
            "20210420_ROI2_512_shifted\n",
            "20210420_ROI3_512_shifted\n",
            "20210421_ROI4_512_shifted\n",
            "20210421_ROI5_512_shifted\n",
            "20210426_ROI1_512_shifted\n",
            "20210426_ROI2_512_shifted\n",
            "20210426_ROI3_512_shifted\n",
            "20210426_ROI4_512_shifted\n",
            "20210505_ROI1_512_shifted\n",
            "20210505_ROI2_512_shifted\n",
            "20210505_ROI3_512_shifted\n",
            "20210505_ROI4_512_shifted\n",
            "20210526_ROI3_512_shifted\n",
            "20210615_ROI1_512_shifted\n",
            "20210622_ROI4_512_shifted\n",
            "count 362\n",
            "0\n",
            "0\n"
          ]
        }
      ],
      "source": [
        "main_path = MAIN_PATH\n",
        "os.chdir(main_path+'/shifted_files')\n",
        "data_dict = {'40X':{'NADH':{}, 'FAD':{}, 'SHG':{}}, '25X':{'NADH':{}, 'FAD':{}, 'SHG':{}}}\n",
        "files = os.listdir()\n",
        "results_folders = []\n",
        "key_names = [] # to contain file names (ROIs) without '.mat'\n",
        "\n",
        "# constructing paths to paired_results folders\n",
        "# for file in files:\n",
        "#     new_path = os.path.join(main_path, file)\n",
        "#     if os.path.isdir(new_path) and 'results' in file:\n",
        "#         paired_path = os.path.join(new_path, 'paired_results')\n",
        "#         results_folders.append(paired_path)\n",
        "# Populating dictionary\n",
        "NADH = 0 # counting number of images\n",
        "FAD = 0\n",
        "# for result_folder in results_folders:\n",
        "roi_mats = [] # to contain full file names\n",
        "# os.chdir(result_folder)\n",
        "experiment_files = os.listdir()\n",
        "print(experiment_files)\n",
        "# appending .mat files with w40XShift to roi_mats\n",
        "for experiment_file in experiment_files:\n",
        "    if experiment_file.endswith('.mat') and '512_shifted' in experiment_file:\n",
        "        roi_mats.append(experiment_file)\n",
        "\n",
        "mean40x = []\n",
        "mean25x = []\n",
        "count = 0\n",
        "for roi in roi_mats:\n",
        "    roi_name = roi[0:-4]\n",
        "    print(roi_name)\n",
        "    key_names.append(roi_name)\n",
        "    mat_data = sio.loadmat(roi)\n",
        "    count = count + np.shape(mat_data['nadh_512_shifted'][:, :, :, 1])[2]\n",
        "    data_dict['40X']['NADH'][roi_name] = mat_data['nadh_512_shifted'][:, :, :, 1]\n",
        "    data_dict['25X']['NADH'][roi_name] = mat_data['nadh_512_shifted'][:, :, :, 0]\n",
        "del mat_data\n",
        "print(\"count\",count)\n",
        "\n",
        "WhereIWantToUseTheSound()\n",
        "print(NADH)\n",
        "print(FAD)"
      ]
    },
    {
      "cell_type": "code",
      "execution_count": null,
      "metadata": {
        "id": "dtcB-DbhpqSS",
        "colab": {
          "base_uri": "https://localhost:8080/"
        },
        "outputId": "7443c95f-3406-449d-b66c-4b0a64703748"
      },
      "outputs": [
        {
          "output_type": "stream",
          "name": "stdout",
          "text": [
            "Stack shape:  (512, 512, 27) 20210420_ROI2_512_shifted\n",
            "SHAPE DATA:  (25, 512, 512, 3) 20210420_ROI2_512_shifted\n",
            "Stack shape:  (512, 512, 22) 20210420_ROI3_512_shifted\n",
            "SHAPE DATA:  (20, 512, 512, 3) 20210420_ROI3_512_shifted\n",
            "Stack shape:  (512, 512, 37) 20210421_ROI4_512_shifted\n",
            "SHAPE DATA:  (35, 512, 512, 3) 20210421_ROI4_512_shifted\n",
            "Stack shape:  (512, 512, 24) 20210421_ROI5_512_shifted\n",
            "SHAPE DATA:  (22, 512, 512, 3) 20210421_ROI5_512_shifted\n",
            "Stack shape:  (512, 512, 27) 20210426_ROI1_512_shifted\n",
            "SHAPE DATA:  (25, 512, 512, 3) 20210426_ROI1_512_shifted\n",
            "Stack shape:  (512, 512, 11) 20210426_ROI2_512_shifted\n",
            "SHAPE DATA:  (9, 512, 512, 3) 20210426_ROI2_512_shifted\n",
            "Stack shape:  (512, 512, 14) 20210426_ROI3_512_shifted\n",
            "SHAPE DATA:  (12, 512, 512, 3) 20210426_ROI3_512_shifted\n",
            "Stack shape:  (512, 512, 13) 20210426_ROI4_512_shifted\n",
            "SHAPE DATA:  (11, 512, 512, 3) 20210426_ROI4_512_shifted\n",
            "Stack shape:  (512, 512, 23) 20210505_ROI1_512_shifted\n",
            "SHAPE DATA:  (21, 512, 512, 3) 20210505_ROI1_512_shifted\n",
            "Stack shape:  (512, 512, 30) 20210505_ROI2_512_shifted\n",
            "SHAPE DATA:  (28, 512, 512, 3) 20210505_ROI2_512_shifted\n",
            "Stack shape:  (512, 512, 15) 20210505_ROI3_512_shifted\n",
            "SHAPE DATA:  (13, 512, 512, 3) 20210505_ROI3_512_shifted\n",
            "Stack shape:  (512, 512, 15) 20210505_ROI4_512_shifted\n",
            "SHAPE DATA:  (13, 512, 512, 3) 20210505_ROI4_512_shifted\n",
            "Stack shape:  (512, 512, 34) 20210526_ROI3_512_shifted\n",
            "SHAPE DATA:  (32, 512, 512, 3) 20210526_ROI3_512_shifted\n",
            "Stack shape:  (512, 512, 40) 20210615_ROI1_512_shifted\n",
            "SHAPE DATA:  (38, 512, 512, 3) 20210615_ROI1_512_shifted\n",
            "Stack shape:  (512, 512, 30) 20210622_ROI4_512_shifted\n",
            "SHAPE DATA:  (28, 512, 512, 3) 20210622_ROI4_512_shifted\n"
          ]
        }
      ],
      "source": [
        "# we are splitting train test val based on stacks, we have a total of 15 stacks\n",
        "# we are generating 3D patches with each patch is 3D over set of depths of interest\n",
        "training_indices = [0, 2, 4, 5, 6, 8, 9,10,11,12,7,13,14]\n",
        "training_keys = [key_names[i] for i in training_indices]\n",
        "val_indices = [1, 3, 6]\n",
        "val_keys = [key_names[i] for i in val_indices]\n",
        "# test_indices = [12, 13]\n",
        "# test_keys = [key_names[i] for i in test_indices]\n",
        "\n",
        "training_data = []\n",
        "training_data_labels = []\n",
        "# test_data = []\n",
        "# test_data_labels = []\n",
        "val_data = []\n",
        "val_data_labels =[]\n",
        "# max_depth = 10 # only taking total of 11 depths for consistency\n",
        "\n",
        "\n",
        "for key in key_names:\n",
        "    [data, label] = preprocess3D_fullsize_3_depths(data_dict, key, types='NADH', process=\"up\")\n",
        "    if key in training_keys:\n",
        "        training_data = concatenate(training_data,data)\n",
        "        training_data_labels = concatenate(training_data_labels,label)\n",
        "    elif key in val_keys:\n",
        "        val_data = concatenate(val_data,data)\n",
        "        val_data_labels = concatenate(val_data_labels,label)"
      ]
    },
    {
      "cell_type": "code",
      "source": [
        "print(np.shape(training_data),np.shape(training_data_labels),np.shape(val_data),np.shape(val_data_labels))\n",
        "# np.set_printoptions(threshold=np.inf)\n",
        "# mean40x = np.amax(training_data,axis=(1,2))\n",
        "# plt.figure(figsize=(10,10))\n",
        "# plt.hist(mean40x,bins=np.unique(mean40x))\n",
        "# value, count = np.unique(mean40x, return_counts=True)\n",
        "# print(value)\n",
        "# print(count)\n",
        "\n",
        "# mean25x = np.amax(training_data_labels,axis=(1,2))\n",
        "# plt.figure(figsize=(10,10))\n",
        "# plt.hist(mean25x,bins=np.unique(mean25x))\n",
        "# print(np.shape(mean25x))\n",
        "# value, count = np.unique(mean25x, return_counts=True)\n",
        "# print(value)\n",
        "# print(count)"
      ],
      "metadata": {
        "id": "UAeDaCc0WeSf",
        "colab": {
          "base_uri": "https://localhost:8080/"
        },
        "outputId": "f2e6d17b-9b64-43a5-8f52-520c5aa98d3e"
      },
      "execution_count": null,
      "outputs": [
        {
          "output_type": "stream",
          "name": "stdout",
          "text": [
            "(290, 512, 512, 3) (290, 512, 512, 3) (42, 512, 512, 3) (42, 512, 512, 3)\n"
          ]
        }
      ]
    },
    {
      "cell_type": "code",
      "execution_count": null,
      "metadata": {
        "id": "2Ye8wTwjHSRa"
      },
      "outputs": [],
      "source": [
        "# # split 1024x1024px images into test and train/val and save all images with mixed depths into corresponding list in dict\n",
        "# test_dict = {'40X':{'NADH':[], 'FAD':[], 'SHG':[]}, '25X':{'NADH':[], 'FAD':[], 'SHG':[]}}\n",
        "# for key in TYPES:\n",
        "#   ids = range(len(data_dict['25X'][key]))\n",
        "#   X_train, X_test, y_train, y_test = sklearn.model_selection.train_test_split(ids, ids, test_size=TEST_SIZE, random_state=1,shuffle=True)\n",
        "#   test_dict['25X'][key] = concatenate(test_dict['25X'][key],data_dict['25X'][key][X_test, :,:])\n",
        "#   test_dict['40X'][key] = concatenate(test_dict['40X'][key],data_dict['40X'][key][X_test, :,:])\n",
        "#   data_dict['25X'][key] = np.delete(data_dict['25X'][key], X_test,axis=0)\n",
        "#   data_dict['40X'][key] = np.delete(data_dict['40X'][key], X_test,axis=0)"
      ]
    },
    {
      "cell_type": "code",
      "source": [
        "# avoid having the same stack appear in both training and testing"
      ],
      "metadata": {
        "id": "PFqef0Fy_HPd"
      },
      "execution_count": null,
      "outputs": []
    },
    {
      "cell_type": "code",
      "execution_count": null,
      "metadata": {
        "id": "OWFOvgwGVqXf"
      },
      "outputs": [],
      "source": [
        "# # preprocessing and patching data\n",
        "# # plt.figure(figsize = (10,10))\n",
        "# # plt.imshow(data_dict['40X']['NADH'][25,:,:])\n",
        "# [data, labels] = preprocess(data_dict, PATCH_SIZE, OVERLAP, types=['NADH'], process=\"up\")\n",
        "# # del data_dict"
      ]
    },
    {
      "cell_type": "code",
      "execution_count": null,
      "metadata": {
        "id": "0-ViEWSNRqKy"
      },
      "outputs": [],
      "source": [
        "# # preprocessing and patching test data\n",
        "# [test_data, test_data_labels] = preprocess(test_dict, PATCH_SIZE, OVERLAP, types=['NADH'], process=\"up\")\n",
        "# # del test_dict"
      ]
    },
    {
      "cell_type": "code",
      "execution_count": null,
      "metadata": {
        "id": "gjyW5lSEu-JE"
      },
      "outputs": [],
      "source": [
        "# # splitting train and validation\n",
        "# # bloddy hell the train_test_split blows up memory, instead splitting ids\n",
        "# ids = range(data.shape[0])\n",
        "# X_train, X_val, y_train, y_val = sklearn.model_selection.train_test_split(ids, ids, test_size=VAL_SIZE/(1-TEST_SIZE), random_state=1,shuffle=True)\n",
        "\n",
        "# training_data = data[X_train,:,:]\n",
        "# data[X_train,:,:] = 0\n",
        "# val_data = data[X_val,:,:]\n",
        "# data[X_val,:,:] = 0\n",
        "# del data\n",
        "# training_data_labels = labels[y_train,:,:]\n",
        "# labels[y_train,:,:] = 0\n",
        "# val_data_labels = labels[y_val,:,:]\n",
        "# labels[y_val,:,:] = 0\n",
        "# del labels\n",
        "# print(\"Train size, test size, and validation size: \",training_data.shape,\", \",val_data.shape)\n",
        "# WhereIWantToUseTheSound()"
      ]
    },
    {
      "cell_type": "code",
      "source": [
        "print(\"training\", np.shape(training_data))\n",
        "print(\"val\",np.shape(val_data))\n",
        "print(np.unique(training_data[0,...]))"
      ],
      "metadata": {
        "colab": {
          "base_uri": "https://localhost:8080/"
        },
        "id": "_fHUt8928sWg",
        "outputId": "e9ef38ec-271b-4437-8516-5a3d5afd8429"
      },
      "execution_count": null,
      "outputs": [
        {
          "output_type": "stream",
          "name": "stdout",
          "text": [
            "training (290, 512, 512, 3)\n",
            "val (42, 512, 512, 3)\n",
            "[0.         0.03293577 0.03369485 ... 1.32610298 1.33410551 1.33887734]\n"
          ]
        }
      ]
    },
    {
      "cell_type": "code",
      "source": [
        "plt.figure(figsize=(10,10))\n",
        "plt.hist(training_data[0,...,0].flatten(), bins=120)\n",
        "plt.figure(figsize=(10,10))\n",
        "plt.hist(training_data_labels[0,...,0].flatten(), bins=120)"
      ],
      "metadata": {
        "colab": {
          "base_uri": "https://localhost:8080/",
          "height": 1000
        },
        "id": "y3ZTJzTP8yNr",
        "outputId": "9c3bdb21-2799-463b-8680-872eb731e7ba"
      },
      "execution_count": null,
      "outputs": [
        {
          "output_type": "execute_result",
          "data": {
            "text/plain": [
              "(array([7.9280e+03, 0.0000e+00, 1.5250e+03, 0.0000e+00, 0.0000e+00,\n",
              "        4.5720e+03, 0.0000e+00, 2.1000e+01, 9.1530e+03, 0.0000e+00,\n",
              "        1.2900e+02, 1.4795e+04, 0.0000e+00, 3.5500e+02, 1.9815e+04,\n",
              "        8.1100e+02, 2.8000e+01, 2.3621e+04, 1.4050e+03, 4.4000e+01,\n",
              "        2.4564e+04, 2.2000e+03, 2.3850e+04, 4.8000e+01, 2.7760e+03,\n",
              "        2.1423e+04, 1.1100e+02, 3.4520e+03, 1.8019e+04, 7.0000e+00,\n",
              "        3.6740e+03, 1.4562e+04, 8.0000e+00, 3.7240e+03, 1.1408e+04,\n",
              "        3.5470e+03, 3.7000e+01, 8.5730e+03, 3.1860e+03, 3.5000e+01,\n",
              "        6.2260e+03, 2.7570e+03, 3.8680e+03, 5.6700e+02, 2.2640e+03,\n",
              "        2.5840e+03, 5.4900e+02, 1.8660e+03, 1.5960e+03, 5.2300e+02,\n",
              "        1.3940e+03, 1.5130e+03, 5.0000e+00, 1.0990e+03, 1.0340e+03,\n",
              "        7.1600e+02, 1.0600e+02, 7.2900e+02, 4.6400e+02, 8.1000e+01,\n",
              "        4.8000e+02, 2.9400e+02, 2.0100e+02, 2.6000e+02, 2.8600e+02,\n",
              "        7.0000e+01, 1.4300e+02, 1.6700e+02, 3.9000e+01, 1.4000e+02,\n",
              "        1.2000e+02, 9.0000e+01, 2.2000e+01, 9.3000e+01, 4.8000e+01,\n",
              "        2.1000e+01, 6.6000e+01, 5.4000e+01, 8.0000e+00, 2.4000e+01,\n",
              "        3.7000e+01, 6.0000e+00, 1.8000e+01, 2.0000e+01, 1.4000e+01,\n",
              "        8.0000e+00, 9.0000e+00, 4.0000e+00, 5.0000e+00, 8.0000e+00,\n",
              "        5.0000e+00, 6.0000e+00, 5.0000e+00, 1.0000e+00, 1.0000e+00,\n",
              "        5.0000e+00, 2.0000e+00, 2.0000e+00, 1.0000e+00, 3.0000e+00,\n",
              "        1.0000e+00, 0.0000e+00, 2.0000e+00, 0.0000e+00, 1.0000e+00,\n",
              "        0.0000e+00, 2.0000e+00, 0.0000e+00, 0.0000e+00, 0.0000e+00,\n",
              "        0.0000e+00, 0.0000e+00, 0.0000e+00, 2.0000e+00, 0.0000e+00,\n",
              "        0.0000e+00, 2.0000e+00, 0.0000e+00, 0.0000e+00, 1.0000e+00]),\n",
              " array([0.        , 0.01304325, 0.0260865 , 0.03912975, 0.052173  ,\n",
              "        0.06521625, 0.07825951, 0.09130276, 0.10434601, 0.11738926,\n",
              "        0.13043251, 0.14347576, 0.15651901, 0.16956226, 0.18260551,\n",
              "        0.19564876, 0.20869202, 0.22173527, 0.23477852, 0.24782177,\n",
              "        0.26086502, 0.27390827, 0.28695152, 0.29999477, 0.31303802,\n",
              "        0.32608127, 0.33912453, 0.35216778, 0.36521103, 0.37825428,\n",
              "        0.39129753, 0.40434078, 0.41738403, 0.43042728, 0.44347053,\n",
              "        0.45651378, 0.46955703, 0.48260029, 0.49564354, 0.50868679,\n",
              "        0.52173004, 0.53477329, 0.54781654, 0.56085979, 0.57390304,\n",
              "        0.58694629, 0.59998954, 0.6130328 , 0.62607605, 0.6391193 ,\n",
              "        0.65216255, 0.6652058 , 0.67824905, 0.6912923 , 0.70433555,\n",
              "        0.7173788 , 0.73042205, 0.74346531, 0.75650856, 0.76955181,\n",
              "        0.78259506, 0.79563831, 0.80868156, 0.82172481, 0.83476806,\n",
              "        0.84781131, 0.86085456, 0.87389781, 0.88694107, 0.89998432,\n",
              "        0.91302757, 0.92607082, 0.93911407, 0.95215732, 0.96520057,\n",
              "        0.97824382, 0.99128707, 1.00433032, 1.01737358, 1.03041683,\n",
              "        1.04346008, 1.05650333, 1.06954658, 1.08258983, 1.09563308,\n",
              "        1.10867633, 1.12171958, 1.13476283, 1.14780608, 1.16084934,\n",
              "        1.17389259, 1.18693584, 1.19997909, 1.21302234, 1.22606559,\n",
              "        1.23910884, 1.25215209, 1.26519534, 1.27823859, 1.29128185,\n",
              "        1.3043251 , 1.31736835, 1.3304116 , 1.34345485, 1.3564981 ,\n",
              "        1.36954135, 1.3825846 , 1.39562785, 1.4086711 , 1.42171436,\n",
              "        1.43475761, 1.44780086, 1.46084411, 1.47388736, 1.48693061,\n",
              "        1.49997386, 1.51301711, 1.52606036, 1.53910361, 1.55214686,\n",
              "        1.56519012]),\n",
              " <a list of 120 Patch objects>)"
            ]
          },
          "metadata": {},
          "execution_count": 100
        },
        {
          "output_type": "display_data",
          "data": {
            "text/plain": [
              "<Figure size 720x720 with 1 Axes>"
            ],
            "image/png": "[encoded data removed]"
          },
          "metadata": {
            "needs_background": "light"
          }
        },
        {
          "output_type": "display_data",
          "data": {
            "text/plain": [
              "<Figure size 720x720 with 1 Axes>"
            ],
            "image/png": "[encoded data removed]"
          },
          "metadata": {
            "needs_background": "light"
          }
        }
      ]
    },
    {
      "cell_type": "code",
      "source": [
        "print(np.count_nonzero((training_data_labels)<0))\n"
      ],
      "metadata": {
        "colab": {
          "base_uri": "https://localhost:8080/"
        },
        "id": "aUSaVvxWmP0H",
        "outputId": "4e4effe7-acdd-4d9c-c5c9-b35d746ad0be"
      },
      "execution_count": null,
      "outputs": [
        {
          "output_type": "stream",
          "name": "stdout",
          "text": [
            "773904\n"
          ]
        }
      ]
    },
    {
      "cell_type": "code",
      "execution_count": null,
      "metadata": {
        "id": "rFRpE9D-l38I",
        "colab": {
          "base_uri": "https://localhost:8080/"
        },
        "outputId": "5c2b3ad2-d5d9-440b-ee60-5d64240914c9"
      },
      "outputs": [
        {
          "output_type": "stream",
          "name": "stdout",
          "text": [
            "(290, 512, 512, 3)\n"
          ]
        }
      ],
      "source": [
        "print(np.shape(training_data))\n",
        "np.savez(MAIN_PATH+'/deep_learning/npz/Cervix_all_data'+str(NPZ_VER)+'.npz',t= np.float32(training_data), v=np.float32(val_data))\n",
        "np.savez(MAIN_PATH+'/deep_learning/npz/Cervix_all_data_labels'+ str(NPZ_VER)+'.npz',t= np.float32(training_data_labels), v=np.float32(val_data_labels))"
      ]
    },
    {
      "cell_type": "code",
      "source": [],
      "metadata": {
        "id": "FqKkqfTGL48w"
      },
      "execution_count": null,
      "outputs": []
    }
  ],
  "metadata": {
    "accelerator": "GPU",
    "colab": {
      "machine_shape": "hm",
      "provenance": []
    },
    "gpuClass": "standard",
    "kernelspec": {
      "display_name": "gpu2",
      "language": "python",
      "name": "gpu2"
    },
    "language_info": {
      "codemirror_mode": {
        "name": "ipython",
        "version": 3
      },
      "file_extension": ".py",
      "mimetype": "text/x-python",
      "name": "python",
      "nbconvert_exporter": "python",
      "pygments_lexer": "ipython3",
      "version": "3.6.13"
    }
  },
  "nbformat": 4,
  "nbformat_minor": 0
}
